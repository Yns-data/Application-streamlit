{
 "cells": [
  {
   "cell_type": "markdown",
   "metadata": {
    "id": "AoUM9GkE8rHy"
   },
   "source": [
    "<hr style=\"border-width:2px;border-color:#3d63c4\">\n",
    "<h1 style = \"text-align:center\" > 1. Projet Satisfaction clients - Exploration des données et prétraitement </h1>\n",
    "<hr style=\"border-width:2px;border-color:#3d63c4\">"
   ]
  },
  {
   "cell_type": "code",
   "execution_count": 1,
   "metadata": {
    "id": "u7KWBfv28rH4",
    "scrolled": true
   },
   "outputs": [],
   "source": [
    "#importation des librairies et du dataframe\n",
    "%matplotlib inline\n",
    "import pandas as pd\n",
    "import numpy as np\n",
    "import matplotlib.pyplot as plt\n",
    "%matplotlib inline\n",
    "import seaborn as sns\n",
    "sns.set_theme()"
   ]
  },
  {
   "cell_type": "code",
   "execution_count": 2,
   "metadata": {
    "id": "hYcqepBz8rH7",
    "scrolled": true
   },
   "outputs": [],
   "source": [
    "df=pd.read_csv('C:\\\\Users\\\\younes.essoualhi\\\\Documents\\\\Projet prédiction note\\\\dataset.csv',sep=\"\\t\")"
   ]
  },
  {
   "cell_type": "code",
   "execution_count": 3,
   "metadata": {
    "id": "TTqhfbd-8rH8",
    "outputId": "0717d097-bb50-4f75-eed3-980604c77372",
    "scrolled": true
   },
   "outputs": [
    {
     "data": {
      "text/html": [
       "<div>\n",
       "<style scoped>\n",
       "    .dataframe tbody tr th:only-of-type {\n",
       "        vertical-align: middle;\n",
       "    }\n",
       "\n",
       "    .dataframe tbody tr th {\n",
       "        vertical-align: top;\n",
       "    }\n",
       "\n",
       "    .dataframe thead th {\n",
       "        text-align: right;\n",
       "    }\n",
       "</style>\n",
       "<table border=\"1\" class=\"dataframe\">\n",
       "  <thead>\n",
       "    <tr style=\"text-align: right;\">\n",
       "      <th></th>\n",
       "      <th>Commentaire</th>\n",
       "      <th>star</th>\n",
       "      <th>date</th>\n",
       "      <th>client</th>\n",
       "      <th>reponse</th>\n",
       "      <th>source</th>\n",
       "      <th>company</th>\n",
       "      <th>ville</th>\n",
       "      <th>maj</th>\n",
       "      <th>date_commande</th>\n",
       "      <th>ecart</th>\n",
       "    </tr>\n",
       "  </thead>\n",
       "  <tbody>\n",
       "    <tr>\n",
       "      <th>0</th>\n",
       "      <td>Bonjour , Ca doit faire 5 ans environ que je s...</td>\n",
       "      <td>1</td>\n",
       "      <td>2021-06-20 00:00:00+00:00</td>\n",
       "      <td>AUDREY Du 62</td>\n",
       "      <td>NaN</td>\n",
       "      <td>TrustPilot</td>\n",
       "      <td>ShowRoom</td>\n",
       "      <td>NaN</td>\n",
       "      <td>NaN</td>\n",
       "      <td>NaN</td>\n",
       "      <td>NaN</td>\n",
       "    </tr>\n",
       "    <tr>\n",
       "      <th>1</th>\n",
       "      <td>Vente lacoste article manquant photo prise sur...</td>\n",
       "      <td>1</td>\n",
       "      <td>2021-06-20 00:00:00+00:00</td>\n",
       "      <td>Nanasky De Verteuil</td>\n",
       "      <td>NaN</td>\n",
       "      <td>TrustPilot</td>\n",
       "      <td>ShowRoom</td>\n",
       "      <td>NaN</td>\n",
       "      <td>NaN</td>\n",
       "      <td>NaN</td>\n",
       "      <td>NaN</td>\n",
       "    </tr>\n",
       "    <tr>\n",
       "      <th>2</th>\n",
       "      <td>Vente Lacoste Honteuse , article erroné , arti...</td>\n",
       "      <td>1</td>\n",
       "      <td>2021-06-19 00:00:00+00:00</td>\n",
       "      <td>Vanessa L</td>\n",
       "      <td>NaN</td>\n",
       "      <td>TrustPilot</td>\n",
       "      <td>ShowRoom</td>\n",
       "      <td>NaN</td>\n",
       "      <td>NaN</td>\n",
       "      <td>NaN</td>\n",
       "      <td>NaN</td>\n",
       "    </tr>\n",
       "    <tr>\n",
       "      <th>3</th>\n",
       "      <td>J'ai commandé des mules de la marque Moosefiel...</td>\n",
       "      <td>2</td>\n",
       "      <td>2021-06-19 00:00:00+00:00</td>\n",
       "      <td>Valery PERRAULT</td>\n",
       "      <td>Bonjour , Je suis sincèrement navré d'apprendr...</td>\n",
       "      <td>TrustPilot</td>\n",
       "      <td>ShowRoom</td>\n",
       "      <td>NaN</td>\n",
       "      <td>NaN</td>\n",
       "      <td>NaN</td>\n",
       "      <td>NaN</td>\n",
       "    </tr>\n",
       "    <tr>\n",
       "      <th>4</th>\n",
       "      <td>Commande téléphone etat A+ . Livraison d un vi...</td>\n",
       "      <td>1</td>\n",
       "      <td>2021-06-19 00:00:00+00:00</td>\n",
       "      <td>JULIE DRINGENBERG</td>\n",
       "      <td>Bonjour Julie , Je suis sincèrement désolé de ...</td>\n",
       "      <td>TrustPilot</td>\n",
       "      <td>ShowRoom</td>\n",
       "      <td>NaN</td>\n",
       "      <td>NaN</td>\n",
       "      <td>NaN</td>\n",
       "      <td>NaN</td>\n",
       "    </tr>\n",
       "  </tbody>\n",
       "</table>\n",
       "</div>"
      ],
      "text/plain": [
       "                                         Commentaire  star  \\\n",
       "0  Bonjour , Ca doit faire 5 ans environ que je s...     1   \n",
       "1  Vente lacoste article manquant photo prise sur...     1   \n",
       "2  Vente Lacoste Honteuse , article erroné , arti...     1   \n",
       "3  J'ai commandé des mules de la marque Moosefiel...     2   \n",
       "4  Commande téléphone etat A+ . Livraison d un vi...     1   \n",
       "\n",
       "                        date               client  \\\n",
       "0  2021-06-20 00:00:00+00:00         AUDREY Du 62   \n",
       "1  2021-06-20 00:00:00+00:00  Nanasky De Verteuil   \n",
       "2  2021-06-19 00:00:00+00:00            Vanessa L   \n",
       "3  2021-06-19 00:00:00+00:00      Valery PERRAULT   \n",
       "4  2021-06-19 00:00:00+00:00    JULIE DRINGENBERG   \n",
       "\n",
       "                                             reponse      source   company  \\\n",
       "0                                                NaN  TrustPilot  ShowRoom   \n",
       "1                                                NaN  TrustPilot  ShowRoom   \n",
       "2                                                NaN  TrustPilot  ShowRoom   \n",
       "3  Bonjour , Je suis sincèrement navré d'apprendr...  TrustPilot  ShowRoom   \n",
       "4  Bonjour Julie , Je suis sincèrement désolé de ...  TrustPilot  ShowRoom   \n",
       "\n",
       "  ville  maj date_commande  ecart  \n",
       "0   NaN  NaN           NaN    NaN  \n",
       "1   NaN  NaN           NaN    NaN  \n",
       "2   NaN  NaN           NaN    NaN  \n",
       "3   NaN  NaN           NaN    NaN  \n",
       "4   NaN  NaN           NaN    NaN  "
      ]
     },
     "execution_count": 3,
     "metadata": {},
     "output_type": "execute_result"
    }
   ],
   "source": [
    "df.head(5)"
   ]
  },
  {
   "cell_type": "markdown",
   "metadata": {
    "id": "E8IG_EV58rH-"
   },
   "source": [
    "## A. Exploration du DataFrame"
   ]
  },
  {
   "cell_type": "code",
   "execution_count": 4,
   "metadata": {
    "id": "BUI2ISKM8rH-",
    "outputId": "42b0b303-2f3c-4bef-9d2a-29c50d3a5c37",
    "scrolled": true
   },
   "outputs": [
    {
     "name": "stdout",
     "output_type": "stream",
     "text": [
      "(19863, 11)\n"
     ]
    }
   ],
   "source": [
    "# affichage les dimensions de mon_dataframe\n",
    "print(df.shape)"
   ]
  },
  {
   "cell_type": "code",
   "execution_count": 5,
   "metadata": {
    "id": "trdudj1w8rH_",
    "outputId": "7f2c227b-3bec-40ac-c18c-3605e30bc3c1",
    "scrolled": true
   },
   "outputs": [
    {
     "data": {
      "text/plain": [
       "Commentaire       object\n",
       "star               int64\n",
       "date              object\n",
       "client            object\n",
       "reponse           object\n",
       "source            object\n",
       "company           object\n",
       "ville             object\n",
       "maj               object\n",
       "date_commande     object\n",
       "ecart            float64\n",
       "dtype: object"
      ]
     },
     "execution_count": 5,
     "metadata": {},
     "output_type": "execute_result"
    }
   ],
   "source": [
    "# affichage des caractéristiques du dataframe\n",
    "df.dtypes"
   ]
  },
  {
   "cell_type": "code",
   "execution_count": 6,
   "metadata": {
    "id": "af9dqdcn8rIB"
   },
   "outputs": [],
   "source": [
    "#Transformation de la colonne date en datetime\n",
    "df['date']=pd.to_datetime(df['date'],utc=True)\n",
    "df['date_commande']=pd.to_datetime(df['date_commande'],utc=True)"
   ]
  },
  {
   "cell_type": "code",
   "execution_count": 7,
   "metadata": {
    "id": "gh85WR4x8rIC",
    "outputId": "c9efd706-9029-4228-bb8d-08742309e43c",
    "scrolled": true,
    "tags": [
     "hide-input"
    ]
   },
   "outputs": [
    {
     "name": "stdout",
     "output_type": "stream",
     "text": [
      "<class 'pandas.core.frame.DataFrame'>\n",
      "RangeIndex: 19863 entries, 0 to 19862\n",
      "Data columns (total 11 columns):\n",
      " #   Column         Non-Null Count  Dtype              \n",
      "---  ------         --------------  -----              \n",
      " 0   Commentaire    19834 non-null  object             \n",
      " 1   star           19863 non-null  int64              \n",
      " 2   date           19488 non-null  datetime64[ns, UTC]\n",
      " 3   client         10215 non-null  object             \n",
      " 4   reponse        8477 non-null   object             \n",
      " 5   source         19863 non-null  object             \n",
      " 6   company        19863 non-null  object             \n",
      " 7   ville          4860 non-null   object             \n",
      " 8   maj            5 non-null      object             \n",
      " 9   date_commande  6686 non-null   datetime64[ns, UTC]\n",
      " 10  ecart          6686 non-null   float64            \n",
      "dtypes: datetime64[ns, UTC](2), float64(1), int64(1), object(7)\n",
      "memory usage: 1.7+ MB\n"
     ]
    }
   ],
   "source": [
    "# informations sur les variables\n",
    "df.info()"
   ]
  },
  {
   "cell_type": "code",
   "execution_count": 8,
   "metadata": {
    "id": "6bFYUGLi8rID",
    "outputId": "0134290c-25e8-4c67-a000-09733b768b5a",
    "scrolled": true
   },
   "outputs": [
    {
     "data": {
      "text/plain": [
       "Commentaire         29\n",
       "star                 0\n",
       "date               375\n",
       "client            9648\n",
       "reponse          11386\n",
       "source               0\n",
       "company              0\n",
       "ville            15003\n",
       "maj              19858\n",
       "date_commande    13177\n",
       "ecart            13177\n",
       "dtype: int64"
      ]
     },
     "execution_count": 8,
     "metadata": {},
     "output_type": "execute_result"
    }
   ],
   "source": [
    "#le nombre de valeurs manquantes\n",
    "df.isnull().sum(axis=0)"
   ]
  },
  {
   "cell_type": "code",
   "execution_count": 9,
   "metadata": {
    "id": "K7I54hOw8rIE",
    "outputId": "0e43f761-dfaa-4cce-cab1-38dd554dc5af",
    "scrolled": true
   },
   "outputs": [
    {
     "data": {
      "text/plain": [
       "Commentaire      17174\n",
       "star                 5\n",
       "date              1516\n",
       "client            7569\n",
       "reponse           2033\n",
       "source               2\n",
       "company              2\n",
       "ville             2457\n",
       "maj                  5\n",
       "date_commande      385\n",
       "ecart               73\n",
       "dtype: int64"
      ]
     },
     "execution_count": 9,
     "metadata": {},
     "output_type": "execute_result"
    }
   ],
   "source": [
    "# le nombre de modalitès de chaque variable\n",
    "df.nunique()"
   ]
  },
  {
   "cell_type": "code",
   "execution_count": 10,
   "metadata": {
    "id": "Vvu8WOFk8rIF",
    "outputId": "793811c2-82d1-4aa4-9356-0205fab303a2"
   },
   "outputs": [
    {
     "name": "stdout",
     "output_type": "stream",
     "text": [
      "longeur moyenne des commentaires: 213.36134919834626\n",
      "longeur medianne des commentaires: 82.0\n"
     ]
    }
   ],
   "source": [
    "print('longeur moyenne des commentaires:', df['Commentaire'].str.len().mean())\n",
    "print('longeur medianne des commentaires:', df['Commentaire'].str.len().median())"
   ]
  },
  {
   "cell_type": "code",
   "execution_count": 11,
   "metadata": {
    "id": "PBmQeIDH8rIG",
    "outputId": "67d82b0c-b562-49cf-c125-9286bb149380"
   },
   "outputs": [
    {
     "data": {
      "text/plain": [
       "array(['Bonjour , Ca doit faire 5 ans environ que je suis membre showrooprive . Je n ’ ai jamais eu de soucis en particulier à part 2/3 petites bricoles…Par contre depuis ces 3 derniers mois , une vraie catastrophe ! J ’ ai eu 3 commandes annulées d ’ affiliés… à se demander si les ventes sont bien réelles histoires de nous faire payer et que showroom « joue » avec notre argent en se faisant des intérêts bancaires sur notre dos ! ! ! ! La 1 ère commande « machines et cafés » 89,99€… annulé 1 mois après …La 2e commande « don ’ t call me Jennifer » 65,16€… annulé 1 mois après …La 3e commande « techwood » 46,29€… annulé 1 mois après….Je l ’ apprends toujours par mail…le même message « bateau » « malgré tous les efforts… .. bla-bla-bla Bien évidemment , pas de dédommagement ! ! ! ! Ben . Non , hein , pourquoi faire ? ! ? ! Je doute que ce site soit aussi fiable et sérieux qu ’ au début ! Au final je vais juste rester fidèle sur n autre site marchand ! ! ! ! ! Très décevant … plus du tout confiance Je ne recommande plus du tout ce site et j ’ en fais part à mon entourage et réseaux sociaux ! ! Afin d ’ éviter que d ’ autres personnes connaissent ce même type d ’ expérience ! !',\n",
       "       'Vente lacoste article manquant photo prise sur 6 articles la moitié livrée sans explication manque de respect.Numero de commande 230130353',\n",
       "       'Vente Lacoste Honteuse , article erroné , article manquant , pas de bon de livraison , retard et service client désastreux.Après deux appels désastreux , je tenais à avertir les plus courageux qui oseront commander et contacter ce service client . Showroom fait dans le pire du pire . Attentions aux oreilles , votre interlocuteur vous parle dans environnement très bruyant de type chantier , coup de marteaux et jet de matériaux à proximité du micro . Vous demandez de faire cesser la nuisance , on vous répond que non car ils vous entendent très bien . Erreur sur votre commande , l ’ interlocuteur ne vous crois pas , il faut envoyer les captures d ’ écran de sa commande pour les convaincre qu ’ ils font bien n ’ importe quoi.La commande arrive en plusieurs fois pour une même vente , retard , article manquant et pas de bon livraison pour comprendre quoi que ce soit , on ne sait rien et il est impossible d ’ obtenir le suivi de livraison et les détails pour les articles manquants.Un article annulé par Showroom car n ’ était plus en stock mais toujours proposé à la vente . ( Commande n°230077467 et Commande n•230077467 ) Ca fait beaucoup d ’ un coup , c ’ est inadmissible.Fuyez !',\n",
       "       'Commande téléphone etat A+ . Livraison d un vieux téléphone pourri sans batterie rayé partout et inaudible ! ! ! super l affaire 300 euros a la poubelle MERCI showroomprivee ! ! ! Passez votre chemin ils sont nuls et ne contrôlent même pas ce qu ils proposent a la vente .',\n",
       "       \"Commande passée pour une vente Lacoste , livraison 15 nous après la date prévue , déjà 6 semaines après l'achat , sur 3 produits , 2 manquants . Pas pro , pas sérieux , aucun geste commercial hormis le remboursement promis des 2 articles manquants .\",\n",
       "       'Annulation de commande après 2 mois d ’ attente dans un geste et sans explication . Retard de livraison et report à 3 reprise pour se résultat incompréhensible et inadmissible je recommande pas le site mieux vaut aller sur vente privée au mon d on attend mais on a sa commande',\n",
       "       'Extrêmement déçue de la vente Apple ! ! Achat d ’ un iPhone reconditionné grade A+ ( fournisseur PRS , phone recycle ) Il a fonctionné 15 jours ! ! ! SAV lamentable jusqu ’ a 6 jours pour répondre à une ’ question et pas de prise en charge des frais de retour pour réparation ... SAV Showroom qui lit les mails ’ en diagonale et répond à côté ! Lamentable ... téléphone pas encore récupéré , ce sera mon dernier achat ! !',\n",
       "       \"Extrêmement deçu pour mes achats lors la vente Dolores Promesas , J'ai reçu des vetements sales et déja utilisées !\",\n",
       "       \"S'il y'avait une option : ne pas mettre d'étoile ( une étoile c'est trop ! ) je serais contente . J'ai passé une commande mi-avril et là nous sommes en mi-juin je ne l'ai toujours pas reçu ! Et quand je leur faire part de ça il ne me réponde pas ! J'ai commandé des articles de jennyfer via leur site . C'est marqué colis expédié via mondial relay mais depuis plus rien même pas un numéro de suivi !\",\n",
       "       'ARNAQUE J ’ ai acheté une combinaison blanche à 33€ au lieu de soit disant 100€ , que j ’ ai reçu + d ’ un mois après , avec des traces noires sur le bas de la combi et surtout elle était SUPER TRANSPARENTE ! Bref impossible à mettre même avec des sous vêtements couleur chair ! Grosse arnaque c ’ est inadmissible je vais la renvoyer avec 6,50€ De frais à mes charges ! En espérant être remboursée ! Je ne vous conseille pas du tout Showroom privé'],\n",
       "      dtype=object)"
      ]
     },
     "execution_count": 11,
     "metadata": {},
     "output_type": "execute_result"
    }
   ],
   "source": [
    "# echantillon de commentaires associés à une star de 1*\n",
    "(df['Commentaire'].loc[df['star'] == 1].head(10)).values"
   ]
  },
  {
   "cell_type": "code",
   "execution_count": 12,
   "metadata": {},
   "outputs": [
    {
     "data": {
      "text/plain": [
       "array([\"Dernièrement j'ai publié un avis mentionnant ma mauvaise expérience lors de l'achat d'un lot de boxers FILA.Après plusieurs échanges avec Showroomprive , le services clients a finalement accepté que je retourne les articles . Leur analyse a abouti à la décision de me rembourser.Bravo Showroomprive pour avoir accepté de revoir votre position .\",\n",
       "       \"Achat d'un coupon de réduction sur un site pour apprendre l'anglais avec une offre bien moins chère que sur le site officielle . Coupon disponible tout de suite après l'achat et fonctionnel .\",\n",
       "       \"J'ai vu beaucoup de commentaires négatifs sur Showroomprivé . Pour ma part , je n'ai jamais eu aucun souci depuis un an que je commande chez eux . Toutes mes commandes étaient conformes , en bon état et dans les délais annoncés . Quant au service client , je l'ai contacté aujourd'hui pour avoir une information sur mon premier retour et j'ai déjà reçu une réponse cet après-midi . Je dirais donc qu'ils sont assez efficaces . Mon expérience est très positive jusqu ' à présent .\",\n",
       "       \"Je suis bluffée par le service client : pas d'attente au téléphone , réponse claire , remboursement rapide . Cela me donne confiance , j ' y retournerai .\",\n",
       "       \"Je suis bluffée par le service client : pas d'attente au téléphone , réponse claire , remboursement rapide . Cela me donne confiance , j ' y retournerai .\",\n",
       "       'C ’ est clairement la seule boite en France qui osent proposer des produits plus que rentable à des prix abordables . Une diversité de choix et une relation clientèle de qualité . Mais à en croire ses détracteurs , les commentaires précédents , certains énergumènes ignorant jusqu ’ au possible se permettent de dénigrer la marque par aigreur et probablement par bêtise . Ne vous y fier pas , c ’ est une marque super',\n",
       "       \"J'attribue 5 étoiles à Daisy qui est aimable , en revanche , d'énormes problèmes de logistique chez showroomprive- commande passée début avril , débitée immédiatement , livrée le 19/5 arrivée incomplète.- commande Diamond & co , photo ne correspond pas à l'article reçu.Si vous devez retourner l'article les frais sont à votre charge . - le pire un soutien gorge bestform reçu déballé dont les bretelles mesuraient pas plus de 20 cm .. Un article défectueux remis dans le circuit .\",\n",
       "       \"27/04/20Retour articleService après vente inexistant , impossibilité au 21 -ème siècle d envoyer ne serait ce qu'un mail pour quelques explications ! ! ! ! Article livré par Mondial relay frais de port :3,45€Pour le retour IMPOSSIBLE par mondial relay , donc par la poste pour la `` modique somme '' de 6,99€ .... Je vous laisse faire le compte.Articles de plus en plus de piètres qualités.A FUIR.17/05/21Après quelques péripéties , je dois reconnaitre que le service après vente est super efficace en espérant si il y a une prochaine fois , que cela soit aussi efficace , ) _ , ) _Mr Ayoub , encore merci à lui , m ' a contacté plusieurs fois par téléphone pour m expliquer le suivi des remboursements de l article et les frais de port.C est la première fois sur un site de vente que l on prend contact avec moi oralement .. Encore merci pour votre sympathie et efficacité Mr Ayoub.Laure\",\n",
       "       'Toujours très satisfaite de showroomprive . Le service client est facile à joindre et qui a toujours parfaitement géré les quelques problèmes qui me sont arrivés depuis 2017 !',\n",
       "       'Je comande beaucoup chez showroomprive depuis plus de 13 ans . Parfois j ai eu des colis egares mais toujours la situation a ete resolue par le service clients . Tres a l ecoute et efficaces la plus part du temps . Merci'],\n",
       "      dtype=object)"
      ]
     },
     "execution_count": 12,
     "metadata": {},
     "output_type": "execute_result"
    }
   ],
   "source": [
    "# echantillon de commentaires associés à une star de 5*\n",
    "df[df['star'] == 5]['Commentaire'].head(10).values"
   ]
  },
  {
   "cell_type": "code",
   "execution_count": 13,
   "metadata": {
    "id": "6hLPgyFV8rII",
    "outputId": "efa56974-2d8c-4eee-e18b-6fc2ab0bdad2"
   },
   "outputs": [
    {
     "data": {
      "text/html": [
       "<div>\n",
       "<style scoped>\n",
       "    .dataframe tbody tr th:only-of-type {\n",
       "        vertical-align: middle;\n",
       "    }\n",
       "\n",
       "    .dataframe tbody tr th {\n",
       "        vertical-align: top;\n",
       "    }\n",
       "\n",
       "    .dataframe thead th {\n",
       "        text-align: right;\n",
       "    }\n",
       "</style>\n",
       "<table border=\"1\" class=\"dataframe\">\n",
       "  <thead>\n",
       "    <tr style=\"text-align: right;\">\n",
       "      <th></th>\n",
       "      <th>Commentaire</th>\n",
       "      <th>star</th>\n",
       "      <th>date</th>\n",
       "      <th>client</th>\n",
       "      <th>reponse</th>\n",
       "      <th>source</th>\n",
       "      <th>company</th>\n",
       "      <th>ville</th>\n",
       "      <th>maj</th>\n",
       "      <th>date_commande</th>\n",
       "      <th>ecart</th>\n",
       "    </tr>\n",
       "  </thead>\n",
       "  <tbody>\n",
       "    <tr>\n",
       "      <th>2838</th>\n",
       "      <td>Très déçue de la qualité des articles . Après ...</td>\n",
       "      <td>2</td>\n",
       "      <td>2021-03-19 00:00:00+00:00</td>\n",
       "      <td>Maya L .</td>\n",
       "      <td>Bonjour , Je suis sincèrement navré d'apprendr...</td>\n",
       "      <td>TrustedShop</td>\n",
       "      <td>ShowRoom</td>\n",
       "      <td>Montigny le bretonneux</td>\n",
       "      <td>2021-04-30</td>\n",
       "      <td>2021-02-20 00:00:00+00:00</td>\n",
       "      <td>27.0</td>\n",
       "    </tr>\n",
       "    <tr>\n",
       "      <th>2982</th>\n",
       "      <td>Suite à un premier avis sur le site pour un co...</td>\n",
       "      <td>3</td>\n",
       "      <td>2021-04-17 00:00:00+00:00</td>\n",
       "      <td>NaN</td>\n",
       "      <td>Bonjour , Je vous remercie infiniment pour vot...</td>\n",
       "      <td>TrustedShop</td>\n",
       "      <td>ShowRoom</td>\n",
       "      <td>NaN</td>\n",
       "      <td>2021-04-24</td>\n",
       "      <td>NaT</td>\n",
       "      <td>NaN</td>\n",
       "    </tr>\n",
       "    <tr>\n",
       "      <th>3137</th>\n",
       "      <td>La qualité et finitions de la collection IRL n...</td>\n",
       "      <td>4</td>\n",
       "      <td>2021-04-14 00:00:00+00:00</td>\n",
       "      <td>NaN</td>\n",
       "      <td>Bonjour , Je suis sincèrement navré d'apprendr...</td>\n",
       "      <td>TrustedShop</td>\n",
       "      <td>ShowRoom</td>\n",
       "      <td>NaN</td>\n",
       "      <td>2021-04-15</td>\n",
       "      <td>2021-04-06 00:00:00+00:00</td>\n",
       "      <td>8.0</td>\n",
       "    </tr>\n",
       "    <tr>\n",
       "      <th>3855</th>\n",
       "      <td>Gli indumenti Cotonella sono di buona fattura ...</td>\n",
       "      <td>3</td>\n",
       "      <td>2021-01-29 00:00:00+00:00</td>\n",
       "      <td>Laura V .</td>\n",
       "      <td>Buongiorno e grazie molto per la tua valutazio...</td>\n",
       "      <td>TrustedShop</td>\n",
       "      <td>ShowRoom</td>\n",
       "      <td>Rimini</td>\n",
       "      <td>2021-02-26</td>\n",
       "      <td>2021-01-07 00:00:00+00:00</td>\n",
       "      <td>22.0</td>\n",
       "    </tr>\n",
       "    <tr>\n",
       "      <th>3925</th>\n",
       "      <td>tutto perfetto</td>\n",
       "      <td>5</td>\n",
       "      <td>2021-02-20 00:00:00+00:00</td>\n",
       "      <td>NaN</td>\n",
       "      <td>NaN</td>\n",
       "      <td>TrustedShop</td>\n",
       "      <td>ShowRoom</td>\n",
       "      <td>NaN</td>\n",
       "      <td>2021-02-23</td>\n",
       "      <td>2021-01-23 00:00:00+00:00</td>\n",
       "      <td>28.0</td>\n",
       "    </tr>\n",
       "  </tbody>\n",
       "</table>\n",
       "</div>"
      ],
      "text/plain": [
       "                                            Commentaire  star  \\\n",
       "2838  Très déçue de la qualité des articles . Après ...     2   \n",
       "2982  Suite à un premier avis sur le site pour un co...     3   \n",
       "3137  La qualité et finitions de la collection IRL n...     4   \n",
       "3855  Gli indumenti Cotonella sono di buona fattura ...     3   \n",
       "3925                                     tutto perfetto     5   \n",
       "\n",
       "                          date     client  \\\n",
       "2838 2021-03-19 00:00:00+00:00   Maya L .   \n",
       "2982 2021-04-17 00:00:00+00:00        NaN   \n",
       "3137 2021-04-14 00:00:00+00:00        NaN   \n",
       "3855 2021-01-29 00:00:00+00:00  Laura V .   \n",
       "3925 2021-02-20 00:00:00+00:00        NaN   \n",
       "\n",
       "                                                reponse       source  \\\n",
       "2838  Bonjour , Je suis sincèrement navré d'apprendr...  TrustedShop   \n",
       "2982  Bonjour , Je vous remercie infiniment pour vot...  TrustedShop   \n",
       "3137  Bonjour , Je suis sincèrement navré d'apprendr...  TrustedShop   \n",
       "3855  Buongiorno e grazie molto per la tua valutazio...  TrustedShop   \n",
       "3925                                                NaN  TrustedShop   \n",
       "\n",
       "       company                   ville         maj             date_commande  \\\n",
       "2838  ShowRoom  Montigny le bretonneux  2021-04-30 2021-02-20 00:00:00+00:00   \n",
       "2982  ShowRoom                     NaN  2021-04-24                       NaT   \n",
       "3137  ShowRoom                     NaN  2021-04-15 2021-04-06 00:00:00+00:00   \n",
       "3855  ShowRoom                  Rimini  2021-02-26 2021-01-07 00:00:00+00:00   \n",
       "3925  ShowRoom                     NaN  2021-02-23 2021-01-23 00:00:00+00:00   \n",
       "\n",
       "      ecart  \n",
       "2838   27.0  \n",
       "2982    NaN  \n",
       "3137    8.0  \n",
       "3855   22.0  \n",
       "3925   28.0  "
      ]
     },
     "execution_count": 13,
     "metadata": {},
     "output_type": "execute_result"
    }
   ],
   "source": [
    "# les enregistrements sont la variable maj est renseignée\n",
    "df.loc[df['maj'].notnull()]"
   ]
  },
  {
   "cell_type": "code",
   "execution_count": 14,
   "metadata": {
    "id": "-8NxNEBh8rII",
    "outputId": "3f11a75b-2546-41d7-9dff-a4f50c253f25"
   },
   "outputs": [
    {
     "data": {
      "text/html": [
       "<div>\n",
       "<style scoped>\n",
       "    .dataframe tbody tr th:only-of-type {\n",
       "        vertical-align: middle;\n",
       "    }\n",
       "\n",
       "    .dataframe tbody tr th {\n",
       "        vertical-align: top;\n",
       "    }\n",
       "\n",
       "    .dataframe thead th {\n",
       "        text-align: right;\n",
       "    }\n",
       "</style>\n",
       "<table border=\"1\" class=\"dataframe\">\n",
       "  <thead>\n",
       "    <tr style=\"text-align: right;\">\n",
       "      <th></th>\n",
       "      <th>Commentaire</th>\n",
       "      <th>star</th>\n",
       "      <th>date</th>\n",
       "      <th>client</th>\n",
       "      <th>reponse</th>\n",
       "      <th>source</th>\n",
       "      <th>company</th>\n",
       "      <th>ville</th>\n",
       "      <th>maj</th>\n",
       "      <th>date_commande</th>\n",
       "      <th>ecart</th>\n",
       "    </tr>\n",
       "  </thead>\n",
       "  <tbody>\n",
       "    <tr>\n",
       "      <th>2320</th>\n",
       "      <td>Excelente</td>\n",
       "      <td>5</td>\n",
       "      <td>2021-06-08 00:00:00+00:00</td>\n",
       "      <td>NaN</td>\n",
       "      <td>¡Hola , Gracias por compartir tu experiencia c...</td>\n",
       "      <td>TrustedShop</td>\n",
       "      <td>ShowRoom</td>\n",
       "      <td>NaN</td>\n",
       "      <td>NaN</td>\n",
       "      <td>2021-05-25 00:00:00+00:00</td>\n",
       "      <td>14.0</td>\n",
       "    </tr>\n",
       "    <tr>\n",
       "      <th>2321</th>\n",
       "      <td>J ’ adore les articles de cette marque</td>\n",
       "      <td>5</td>\n",
       "      <td>2021-06-07 00:00:00+00:00</td>\n",
       "      <td>NaN</td>\n",
       "      <td>Bonjour , Merci infiniment pour votre apprécia...</td>\n",
       "      <td>TrustedShop</td>\n",
       "      <td>ShowRoom</td>\n",
       "      <td>NaN</td>\n",
       "      <td>NaN</td>\n",
       "      <td>2021-05-24 00:00:00+00:00</td>\n",
       "      <td>14.0</td>\n",
       "    </tr>\n",
       "    <tr>\n",
       "      <th>2322</th>\n",
       "      <td>Una de las carteras tiene una mancha que no se...</td>\n",
       "      <td>4</td>\n",
       "      <td>2021-06-07 00:00:00+00:00</td>\n",
       "      <td>NaN</td>\n",
       "      <td>Pese al gran profesionalismo de nuestros equip...</td>\n",
       "      <td>TrustedShop</td>\n",
       "      <td>ShowRoom</td>\n",
       "      <td>NaN</td>\n",
       "      <td>NaN</td>\n",
       "      <td>2021-05-07 00:00:00+00:00</td>\n",
       "      <td>31.0</td>\n",
       "    </tr>\n",
       "    <tr>\n",
       "      <th>2323</th>\n",
       "      <td>Bien expliqué Reçois chaque étape par un mail ...</td>\n",
       "      <td>5</td>\n",
       "      <td>2021-06-07 00:00:00+00:00</td>\n",
       "      <td>NaN</td>\n",
       "      <td>Bonjour , Un grand merci pour votre avis ! Bon...</td>\n",
       "      <td>TrustedShop</td>\n",
       "      <td>ShowRoom</td>\n",
       "      <td>NaN</td>\n",
       "      <td>NaN</td>\n",
       "      <td>2021-05-29 00:00:00+00:00</td>\n",
       "      <td>9.0</td>\n",
       "    </tr>\n",
       "    <tr>\n",
       "      <th>2324</th>\n",
       "      <td>Too</td>\n",
       "      <td>5</td>\n",
       "      <td>2021-06-07 00:00:00+00:00</td>\n",
       "      <td>NaN</td>\n",
       "      <td>Bonjour , Nous vous remercions de votre confia...</td>\n",
       "      <td>TrustedShop</td>\n",
       "      <td>ShowRoom</td>\n",
       "      <td>NaN</td>\n",
       "      <td>NaN</td>\n",
       "      <td>2021-05-27 00:00:00+00:00</td>\n",
       "      <td>11.0</td>\n",
       "    </tr>\n",
       "    <tr>\n",
       "      <th>2325</th>\n",
       "      <td>J'ai commandé des sandales en 38 . J'ai reçu d...</td>\n",
       "      <td>4</td>\n",
       "      <td>2021-06-07 00:00:00+00:00</td>\n",
       "      <td>NaN</td>\n",
       "      <td>Bonjour , Je suis sincèrement désolé d'apprend...</td>\n",
       "      <td>TrustedShop</td>\n",
       "      <td>ShowRoom</td>\n",
       "      <td>NaN</td>\n",
       "      <td>NaN</td>\n",
       "      <td>2021-05-28 00:00:00+00:00</td>\n",
       "      <td>10.0</td>\n",
       "    </tr>\n",
       "    <tr>\n",
       "      <th>2326</th>\n",
       "      <td>Génial tellement que je vais recommander</td>\n",
       "      <td>5</td>\n",
       "      <td>2021-06-07 00:00:00+00:00</td>\n",
       "      <td>Christelle C .</td>\n",
       "      <td>Bonjour , Merci d'avoir partagé votre expérien...</td>\n",
       "      <td>TrustedShop</td>\n",
       "      <td>ShowRoom</td>\n",
       "      <td>Mauriac</td>\n",
       "      <td>NaN</td>\n",
       "      <td>2021-05-25 00:00:00+00:00</td>\n",
       "      <td>13.0</td>\n",
       "    </tr>\n",
       "    <tr>\n",
       "      <th>2327</th>\n",
       "      <td>Tous ces biens . Passe . La matière est très a...</td>\n",
       "      <td>5</td>\n",
       "      <td>2021-06-07 00:00:00+00:00</td>\n",
       "      <td>NaN</td>\n",
       "      <td>Bonjour , Merci pour votre commentaire qui va ...</td>\n",
       "      <td>TrustedShop</td>\n",
       "      <td>ShowRoom</td>\n",
       "      <td>NaN</td>\n",
       "      <td>NaN</td>\n",
       "      <td>2021-05-27 00:00:00+00:00</td>\n",
       "      <td>11.0</td>\n",
       "    </tr>\n",
       "    <tr>\n",
       "      <th>2328</th>\n",
       "      <td>Taille un peu petit</td>\n",
       "      <td>4</td>\n",
       "      <td>2021-06-07 00:00:00+00:00</td>\n",
       "      <td>NaN</td>\n",
       "      <td>Bonjour , Je suis sincèrement navré d'apprendr...</td>\n",
       "      <td>TrustedShop</td>\n",
       "      <td>ShowRoom</td>\n",
       "      <td>NaN</td>\n",
       "      <td>NaN</td>\n",
       "      <td>2021-05-28 00:00:00+00:00</td>\n",
       "      <td>10.0</td>\n",
       "    </tr>\n",
       "    <tr>\n",
       "      <th>2329</th>\n",
       "      <td>Déçu par la qualité de l article Et par le ser...</td>\n",
       "      <td>3</td>\n",
       "      <td>2021-06-07 00:00:00+00:00</td>\n",
       "      <td>NaN</td>\n",
       "      <td>Bonjour , Je suis sincèrement désolé d'apprend...</td>\n",
       "      <td>TrustedShop</td>\n",
       "      <td>ShowRoom</td>\n",
       "      <td>NaN</td>\n",
       "      <td>NaN</td>\n",
       "      <td>2021-05-28 00:00:00+00:00</td>\n",
       "      <td>10.0</td>\n",
       "    </tr>\n",
       "    <tr>\n",
       "      <th>2330</th>\n",
       "      <td>Les tissus ne sont pas de super qualité je tro...</td>\n",
       "      <td>4</td>\n",
       "      <td>2021-06-07 00:00:00+00:00</td>\n",
       "      <td>aurore m .</td>\n",
       "      <td>Bonjour , Je suis sincèrement navré d'apprendr...</td>\n",
       "      <td>TrustedShop</td>\n",
       "      <td>ShowRoom</td>\n",
       "      <td>saintes</td>\n",
       "      <td>NaN</td>\n",
       "      <td>2021-05-29 00:00:00+00:00</td>\n",
       "      <td>9.0</td>\n",
       "    </tr>\n",
       "    <tr>\n",
       "      <th>2331</th>\n",
       "      <td>Palmas</td>\n",
       "      <td>4</td>\n",
       "      <td>2021-06-07 00:00:00+00:00</td>\n",
       "      <td>NaN</td>\n",
       "      <td>Bom dia , Agradecemos o seu comentário e conti...</td>\n",
       "      <td>TrustedShop</td>\n",
       "      <td>ShowRoom</td>\n",
       "      <td>NaN</td>\n",
       "      <td>NaN</td>\n",
       "      <td>2021-05-25 00:00:00+00:00</td>\n",
       "      <td>13.0</td>\n",
       "    </tr>\n",
       "    <tr>\n",
       "      <th>2332</th>\n",
       "      <td>Délai de livraison respecté . Les chaussures s...</td>\n",
       "      <td>4</td>\n",
       "      <td>2021-06-07 00:00:00+00:00</td>\n",
       "      <td>Angélique B .</td>\n",
       "      <td>Bonjour , Merci pour votre commentaire qui va ...</td>\n",
       "      <td>TrustedShop</td>\n",
       "      <td>ShowRoom</td>\n",
       "      <td>Pontlevoy</td>\n",
       "      <td>NaN</td>\n",
       "      <td>2021-05-13 00:00:00+00:00</td>\n",
       "      <td>25.0</td>\n",
       "    </tr>\n",
       "    <tr>\n",
       "      <th>2333</th>\n",
       "      <td>Parfait</td>\n",
       "      <td>5</td>\n",
       "      <td>2021-06-07 00:00:00+00:00</td>\n",
       "      <td>NaN</td>\n",
       "      <td>Bonjour , Merci infiniment pour votre apprécia...</td>\n",
       "      <td>TrustedShop</td>\n",
       "      <td>ShowRoom</td>\n",
       "      <td>NaN</td>\n",
       "      <td>NaN</td>\n",
       "      <td>2021-05-23 00:00:00+00:00</td>\n",
       "      <td>15.0</td>\n",
       "    </tr>\n",
       "    <tr>\n",
       "      <th>2334</th>\n",
       "      <td>Gosto bastante</td>\n",
       "      <td>5</td>\n",
       "      <td>2021-06-07 00:00:00+00:00</td>\n",
       "      <td>NaN</td>\n",
       "      <td>Bom dia , Agradecemos o seu comentário e conti...</td>\n",
       "      <td>TrustedShop</td>\n",
       "      <td>ShowRoom</td>\n",
       "      <td>NaN</td>\n",
       "      <td>NaN</td>\n",
       "      <td>2021-05-09 00:00:00+00:00</td>\n",
       "      <td>29.0</td>\n",
       "    </tr>\n",
       "    <tr>\n",
       "      <th>2335</th>\n",
       "      <td>Bien</td>\n",
       "      <td>5</td>\n",
       "      <td>2021-06-07 00:00:00+00:00</td>\n",
       "      <td>NaN</td>\n",
       "      <td>Bonjour , Un grand merci pour votre avis ! Bon...</td>\n",
       "      <td>TrustedShop</td>\n",
       "      <td>ShowRoom</td>\n",
       "      <td>NaN</td>\n",
       "      <td>NaN</td>\n",
       "      <td>2021-05-24 00:00:00+00:00</td>\n",
       "      <td>14.0</td>\n",
       "    </tr>\n",
       "    <tr>\n",
       "      <th>2336</th>\n",
       "      <td>cela fais deux vois que je commande IRL , mais...</td>\n",
       "      <td>4</td>\n",
       "      <td>2021-06-07 00:00:00+00:00</td>\n",
       "      <td>hafida a .</td>\n",
       "      <td>Bonjour , Je suis sincèrement navré d'apprendr...</td>\n",
       "      <td>TrustedShop</td>\n",
       "      <td>ShowRoom</td>\n",
       "      <td>toulouse</td>\n",
       "      <td>NaN</td>\n",
       "      <td>2021-05-28 00:00:00+00:00</td>\n",
       "      <td>10.0</td>\n",
       "    </tr>\n",
       "    <tr>\n",
       "      <th>2337</th>\n",
       "      <td>parfaitement contente</td>\n",
       "      <td>5</td>\n",
       "      <td>2021-06-07 00:00:00+00:00</td>\n",
       "      <td>laila e .</td>\n",
       "      <td>Bonjour , Nous vous remercions de votre confia...</td>\n",
       "      <td>TrustedShop</td>\n",
       "      <td>ShowRoom</td>\n",
       "      <td>hannut</td>\n",
       "      <td>NaN</td>\n",
       "      <td>2021-05-30 00:00:00+00:00</td>\n",
       "      <td>8.0</td>\n",
       "    </tr>\n",
       "    <tr>\n",
       "      <th>2338</th>\n",
       "      <td>tout est dans les clous ; je recommande</td>\n",
       "      <td>5</td>\n",
       "      <td>2021-06-07 00:00:00+00:00</td>\n",
       "      <td>gege B .</td>\n",
       "      <td>Bonjour , Merci d'avoir partagé votre expérien...</td>\n",
       "      <td>TrustedShop</td>\n",
       "      <td>ShowRoom</td>\n",
       "      <td>vichy</td>\n",
       "      <td>NaN</td>\n",
       "      <td>2021-05-06 00:00:00+00:00</td>\n",
       "      <td>32.0</td>\n",
       "    </tr>\n",
       "    <tr>\n",
       "      <th>2339</th>\n",
       "      <td>Il serait bien d ’ indiquer la taille en cm du...</td>\n",
       "      <td>4</td>\n",
       "      <td>2021-06-07 00:00:00+00:00</td>\n",
       "      <td>NaN</td>\n",
       "      <td>Bonjour , Merci de partager avec nous votre av...</td>\n",
       "      <td>TrustedShop</td>\n",
       "      <td>ShowRoom</td>\n",
       "      <td>NaN</td>\n",
       "      <td>NaN</td>\n",
       "      <td>2021-05-27 00:00:00+00:00</td>\n",
       "      <td>11.0</td>\n",
       "    </tr>\n",
       "  </tbody>\n",
       "</table>\n",
       "</div>"
      ],
      "text/plain": [
       "                                            Commentaire  star  \\\n",
       "2320                                          Excelente     5   \n",
       "2321             J ’ adore les articles de cette marque     5   \n",
       "2322  Una de las carteras tiene una mancha que no se...     4   \n",
       "2323  Bien expliqué Reçois chaque étape par un mail ...     5   \n",
       "2324                                                Too     5   \n",
       "2325  J'ai commandé des sandales en 38 . J'ai reçu d...     4   \n",
       "2326           Génial tellement que je vais recommander     5   \n",
       "2327  Tous ces biens . Passe . La matière est très a...     5   \n",
       "2328                                Taille un peu petit     4   \n",
       "2329  Déçu par la qualité de l article Et par le ser...     3   \n",
       "2330  Les tissus ne sont pas de super qualité je tro...     4   \n",
       "2331                                             Palmas     4   \n",
       "2332  Délai de livraison respecté . Les chaussures s...     4   \n",
       "2333                                            Parfait     5   \n",
       "2334                                     Gosto bastante     5   \n",
       "2335                                               Bien     5   \n",
       "2336  cela fais deux vois que je commande IRL , mais...     4   \n",
       "2337                              parfaitement contente     5   \n",
       "2338            tout est dans les clous ; je recommande     5   \n",
       "2339  Il serait bien d ’ indiquer la taille en cm du...     4   \n",
       "\n",
       "                          date          client  \\\n",
       "2320 2021-06-08 00:00:00+00:00             NaN   \n",
       "2321 2021-06-07 00:00:00+00:00             NaN   \n",
       "2322 2021-06-07 00:00:00+00:00             NaN   \n",
       "2323 2021-06-07 00:00:00+00:00             NaN   \n",
       "2324 2021-06-07 00:00:00+00:00             NaN   \n",
       "2325 2021-06-07 00:00:00+00:00             NaN   \n",
       "2326 2021-06-07 00:00:00+00:00  Christelle C .   \n",
       "2327 2021-06-07 00:00:00+00:00             NaN   \n",
       "2328 2021-06-07 00:00:00+00:00             NaN   \n",
       "2329 2021-06-07 00:00:00+00:00             NaN   \n",
       "2330 2021-06-07 00:00:00+00:00      aurore m .   \n",
       "2331 2021-06-07 00:00:00+00:00             NaN   \n",
       "2332 2021-06-07 00:00:00+00:00   Angélique B .   \n",
       "2333 2021-06-07 00:00:00+00:00             NaN   \n",
       "2334 2021-06-07 00:00:00+00:00             NaN   \n",
       "2335 2021-06-07 00:00:00+00:00             NaN   \n",
       "2336 2021-06-07 00:00:00+00:00      hafida a .   \n",
       "2337 2021-06-07 00:00:00+00:00       laila e .   \n",
       "2338 2021-06-07 00:00:00+00:00        gege B .   \n",
       "2339 2021-06-07 00:00:00+00:00             NaN   \n",
       "\n",
       "                                                reponse       source  \\\n",
       "2320  ¡Hola , Gracias por compartir tu experiencia c...  TrustedShop   \n",
       "2321  Bonjour , Merci infiniment pour votre apprécia...  TrustedShop   \n",
       "2322  Pese al gran profesionalismo de nuestros equip...  TrustedShop   \n",
       "2323  Bonjour , Un grand merci pour votre avis ! Bon...  TrustedShop   \n",
       "2324  Bonjour , Nous vous remercions de votre confia...  TrustedShop   \n",
       "2325  Bonjour , Je suis sincèrement désolé d'apprend...  TrustedShop   \n",
       "2326  Bonjour , Merci d'avoir partagé votre expérien...  TrustedShop   \n",
       "2327  Bonjour , Merci pour votre commentaire qui va ...  TrustedShop   \n",
       "2328  Bonjour , Je suis sincèrement navré d'apprendr...  TrustedShop   \n",
       "2329  Bonjour , Je suis sincèrement désolé d'apprend...  TrustedShop   \n",
       "2330  Bonjour , Je suis sincèrement navré d'apprendr...  TrustedShop   \n",
       "2331  Bom dia , Agradecemos o seu comentário e conti...  TrustedShop   \n",
       "2332  Bonjour , Merci pour votre commentaire qui va ...  TrustedShop   \n",
       "2333  Bonjour , Merci infiniment pour votre apprécia...  TrustedShop   \n",
       "2334  Bom dia , Agradecemos o seu comentário e conti...  TrustedShop   \n",
       "2335  Bonjour , Un grand merci pour votre avis ! Bon...  TrustedShop   \n",
       "2336  Bonjour , Je suis sincèrement navré d'apprendr...  TrustedShop   \n",
       "2337  Bonjour , Nous vous remercions de votre confia...  TrustedShop   \n",
       "2338  Bonjour , Merci d'avoir partagé votre expérien...  TrustedShop   \n",
       "2339  Bonjour , Merci de partager avec nous votre av...  TrustedShop   \n",
       "\n",
       "       company      ville  maj             date_commande  ecart  \n",
       "2320  ShowRoom        NaN  NaN 2021-05-25 00:00:00+00:00   14.0  \n",
       "2321  ShowRoom        NaN  NaN 2021-05-24 00:00:00+00:00   14.0  \n",
       "2322  ShowRoom        NaN  NaN 2021-05-07 00:00:00+00:00   31.0  \n",
       "2323  ShowRoom        NaN  NaN 2021-05-29 00:00:00+00:00    9.0  \n",
       "2324  ShowRoom        NaN  NaN 2021-05-27 00:00:00+00:00   11.0  \n",
       "2325  ShowRoom        NaN  NaN 2021-05-28 00:00:00+00:00   10.0  \n",
       "2326  ShowRoom    Mauriac  NaN 2021-05-25 00:00:00+00:00   13.0  \n",
       "2327  ShowRoom        NaN  NaN 2021-05-27 00:00:00+00:00   11.0  \n",
       "2328  ShowRoom        NaN  NaN 2021-05-28 00:00:00+00:00   10.0  \n",
       "2329  ShowRoom        NaN  NaN 2021-05-28 00:00:00+00:00   10.0  \n",
       "2330  ShowRoom    saintes  NaN 2021-05-29 00:00:00+00:00    9.0  \n",
       "2331  ShowRoom        NaN  NaN 2021-05-25 00:00:00+00:00   13.0  \n",
       "2332  ShowRoom  Pontlevoy  NaN 2021-05-13 00:00:00+00:00   25.0  \n",
       "2333  ShowRoom        NaN  NaN 2021-05-23 00:00:00+00:00   15.0  \n",
       "2334  ShowRoom        NaN  NaN 2021-05-09 00:00:00+00:00   29.0  \n",
       "2335  ShowRoom        NaN  NaN 2021-05-24 00:00:00+00:00   14.0  \n",
       "2336  ShowRoom   toulouse  NaN 2021-05-28 00:00:00+00:00   10.0  \n",
       "2337  ShowRoom     hannut  NaN 2021-05-30 00:00:00+00:00    8.0  \n",
       "2338  ShowRoom      vichy  NaN 2021-05-06 00:00:00+00:00   32.0  \n",
       "2339  ShowRoom        NaN  NaN 2021-05-27 00:00:00+00:00   11.0  "
      ]
     },
     "execution_count": 14,
     "metadata": {},
     "output_type": "execute_result"
    }
   ],
   "source": [
    "# Variable date_commande et ecart\n",
    "df.loc[df['date_commande'].notnull()].head(20)"
   ]
  },
  {
   "cell_type": "code",
   "execution_count": 15,
   "metadata": {
    "id": "UWgeic4P8rIJ",
    "outputId": "b03b8db1-9e47-4edb-e2a9-4bde967346d0",
    "scrolled": true
   },
   "outputs": [
    {
     "data": {
      "text/html": [
       "<div>\n",
       "<style scoped>\n",
       "    .dataframe tbody tr th:only-of-type {\n",
       "        vertical-align: middle;\n",
       "    }\n",
       "\n",
       "    .dataframe tbody tr th {\n",
       "        vertical-align: top;\n",
       "    }\n",
       "\n",
       "    .dataframe thead th {\n",
       "        text-align: right;\n",
       "    }\n",
       "</style>\n",
       "<table border=\"1\" class=\"dataframe\">\n",
       "  <thead>\n",
       "    <tr style=\"text-align: right;\">\n",
       "      <th></th>\n",
       "      <th>star</th>\n",
       "      <th>ecart</th>\n",
       "    </tr>\n",
       "  </thead>\n",
       "  <tbody>\n",
       "    <tr>\n",
       "      <th>count</th>\n",
       "      <td>19863.000000</td>\n",
       "      <td>6686.000000</td>\n",
       "    </tr>\n",
       "    <tr>\n",
       "      <th>mean</th>\n",
       "      <td>3.408398</td>\n",
       "      <td>14.286419</td>\n",
       "    </tr>\n",
       "    <tr>\n",
       "      <th>std</th>\n",
       "      <td>1.650531</td>\n",
       "      <td>10.373320</td>\n",
       "    </tr>\n",
       "    <tr>\n",
       "      <th>min</th>\n",
       "      <td>1.000000</td>\n",
       "      <td>1.000000</td>\n",
       "    </tr>\n",
       "    <tr>\n",
       "      <th>25%</th>\n",
       "      <td>1.000000</td>\n",
       "      <td>9.000000</td>\n",
       "    </tr>\n",
       "    <tr>\n",
       "      <th>50%</th>\n",
       "      <td>4.000000</td>\n",
       "      <td>12.000000</td>\n",
       "    </tr>\n",
       "    <tr>\n",
       "      <th>75%</th>\n",
       "      <td>5.000000</td>\n",
       "      <td>17.000000</td>\n",
       "    </tr>\n",
       "    <tr>\n",
       "      <th>max</th>\n",
       "      <td>5.000000</td>\n",
       "      <td>304.000000</td>\n",
       "    </tr>\n",
       "  </tbody>\n",
       "</table>\n",
       "</div>"
      ],
      "text/plain": [
       "               star        ecart\n",
       "count  19863.000000  6686.000000\n",
       "mean       3.408398    14.286419\n",
       "std        1.650531    10.373320\n",
       "min        1.000000     1.000000\n",
       "25%        1.000000     9.000000\n",
       "50%        4.000000    12.000000\n",
       "75%        5.000000    17.000000\n",
       "max        5.000000   304.000000"
      ]
     },
     "execution_count": 15,
     "metadata": {},
     "output_type": "execute_result"
    }
   ],
   "source": [
    "# statistiques de la base de données\n",
    "df.describe()"
   ]
  },
  {
   "cell_type": "markdown",
   "metadata": {
    "id": "8jyx8Azr8rIK"
   },
   "source": [
    "## B. Nettoyage des données "
   ]
  },
  {
   "cell_type": "code",
   "execution_count": 16,
   "metadata": {
    "id": "UgJq6FCj8rIK"
   },
   "outputs": [],
   "source": [
    "# la variable maj contient plus de 99% de NaN. Je ne la conserve pas pour la suite de l'analyse\n",
    "df=df.drop(\"maj\",axis = 1)"
   ]
  },
  {
   "cell_type": "code",
   "execution_count": 17,
   "metadata": {
    "id": "HkFmsKll8rIL"
   },
   "outputs": [],
   "source": [
    "# supression des commentaires vides\n",
    "df= df[df['Commentaire'].notnull()]"
   ]
  },
  {
   "cell_type": "code",
   "execution_count": 18,
   "metadata": {},
   "outputs": [],
   "source": [
    "# supression les lignes avec des valeurs date vides\n",
    "df = df.dropna(subset=['date'])"
   ]
  },
  {
   "cell_type": "code",
   "execution_count": 19,
   "metadata": {
    "id": "3OOz-BSY8rIL",
    "outputId": "025a741e-fa41-4cc4-a3e3-cbe1d4b896db",
    "scrolled": true
   },
   "outputs": [
    {
     "data": {
      "text/plain": [
       "Commentaire          0\n",
       "star                 0\n",
       "date                 0\n",
       "client            9397\n",
       "reponse          11099\n",
       "source               0\n",
       "company              0\n",
       "ville            14724\n",
       "date_commande    12773\n",
       "ecart            12773\n",
       "dtype: int64"
      ]
     },
     "execution_count": 19,
     "metadata": {},
     "output_type": "execute_result"
    }
   ],
   "source": [
    "# Remplacement des Nan sur les dates par la valeur la plus frequente\n",
    "df['date']=df['date'].fillna(df['date'].mode()[0])\n",
    "df.isnull().sum(axis=0)"
   ]
  },
  {
   "cell_type": "code",
   "execution_count": 20,
   "metadata": {
    "id": "geSiSyck8rIM",
    "outputId": "6b549d86-10fd-4613-d17b-b2c489674358",
    "scrolled": true
   },
   "outputs": [
    {
     "name": "stdout",
     "output_type": "stream",
     "text": [
      "il ya 420 doublons dans le fichier\n"
     ]
    }
   ],
   "source": [
    "# recherche de doublons\n",
    "print('il ya',df.duplicated().sum(),'doublons dans le fichier')"
   ]
  },
  {
   "cell_type": "code",
   "execution_count": 21,
   "metadata": {
    "id": "xVKgUpyQ8rIM",
    "outputId": "652a8e78-1f57-4aa3-bef0-b0f3e2e2fa9b",
    "scrolled": true
   },
   "outputs": [
    {
     "name": "stdout",
     "output_type": "stream",
     "text": [
      "il ya 0 doublons dans le fichier\n"
     ]
    }
   ],
   "source": [
    "# supression des doublons\n",
    "df=df.drop_duplicates()\n",
    "print('il ya',df.duplicated().sum(),'doublons dans le fichier')"
   ]
  },
  {
   "cell_type": "code",
   "execution_count": 24,
   "metadata": {
    "id": "VwpSd0bN8rIN",
    "scrolled": true
   },
   "outputs": [],
   "source": [
    "# nettoyage des commentaires\n",
    "import re\n",
    "def clean_text(text):\n",
    "    text = re.sub(r\"'\", '', text)\n",
    "    text = re.sub(r'[^\\w\\s]+', '', text)  # ponctuation\n",
    "    text = re.sub(r'\\s+', ' ', text) # double espace\n",
    "    text = re.sub(r'\\W+', ' ', text.lower())# caractères spéciaux  # minuscule \n",
    "    text = re.sub(\" \\d+\", \" \", text)# les chiffres\n",
    "    return text\n",
    "df['Commentaire']=df['Commentaire'].astype(str)\n",
    "df['Commentaire'] = df['Commentaire'].apply(clean_text)"
   ]
  },
  {
   "cell_type": "code",
   "execution_count": 25,
   "metadata": {
    "id": "Ci7JAwlb8rIO",
    "scrolled": true
   },
   "outputs": [],
   "source": [
    "# supprimer les mots vides:\n",
    "from nltk.corpus import stopwords\n",
    "stop_words = set(stopwords.words('french'))\n",
    "stop_words.update([\"a\",\"à\",\"â\",\"abord\",\"afin\",\"ah\",\"ai\",\"aie\",\"ainsi\",\"allaient\",\"allo\",\"allô\",\"allons\",\"après\",\"assez\",\"attendu\",\"au\",\"aucun\",\"aucune\",\"aujourd\",\"aujourd'hui\",\"auquel\",\"aura\",\"auront\",\"aussi\",\"autre\",\"autres\",\"aux\",\"auxquelles\",\"auxquels\",\"avaient\",\"avais\",\"avait\",\"avant\",\"avec\",\"avoir\",\"ayant\",\"b\",\"bah\",\"beaucoup\",\"bien\",\"bigre\",\"boum\",\"bravo\",\"brrr\",\"c\",\"ça\",\"car\",\"ce\",\"ceci\",\"cela\",\"celle\",\"celle-ci\",\"celle-là\",\"celles\",\"celles-ci\",\"celles-là\",\"celui\",\"celui-ci\",\"celui-là\",\"cent\",\"cependant\",\"certain\",\"certaine\",\"certaines\",\"certains\",\"certes\",\"ces\",\"cet\",\"cette\",\"ceux\",\"ceux-ci\",\"ceux-là\",\"chacun\",\"chaque\",\"cher\",\"chère\",\"chères\",\"chers\",\"chez\",\"chiche\",\"chut\",\"ci\",\"cinq\",\"cinquantaine\",\"cinquante\",\"cinquantième\",\"cinquième\",\"clac\",\"clic\",\"combien\",\"comme\",\"comment\",\"compris\",\"concernant\",\"contre\",\"couic\",\"crac\",\"d\",\"da\",\"dans\",\"de\",\"debout\",\"dedans\",\"dehors\",\"delà\",\"depuis\",\"derrière\",\"des\",\"dès\",\"désormais\",\"desquelles\",\"desquels\",\"dessous\",\"dessus\",\"deux\",\"deuxième\",\"deuxièmement\",\"devant\",\"devers\",\"devra\",\"différent\",\"différente\",\"différentes\",\"différents\",\"dire\",\"divers\",\"diverse\",\"diverses\",\"dix\",\"dix-huit\",\"dixième\",\"dix-neuf\",\"dix-sept\",\"doit\",\"doivent\",\"donc\",\"dont\",\"douze\",\"douzième\",\"dring\",\"du\",\"duquel\",\"durant\",\"e\",\"effet\",\"eh\",\"elle\",\"elle-même\",\"elles\",\"elles-mêmes\",\"en\",\"encore\",\"entre\",\"envers\",\"environ\",\"es\",\"ès\",\"est\",\"et\",\"etant\",\"étaient\",\"étais\",\"était\",\"étant\",\"etc\",\"été\",\"etre\",\"être\",\"eu\",\"euh\",\"eux\",\"eux-mêmes\",\"excepté\",\"f\",\"façon\",\"fais\",\"faisaient\",\"faisant\",\"fait\",\"feront\",\"fi\",\"flac\",\"floc\",\"font\",\"g\",\"gens\",\"h\",\"ha\",\"hé\",\"hein\",\"hélas\",\"hem\",\"hep\",\"hi\",\"ho\",\"holà\",\"hop\",\"hormis\",\"hors\",\"hou\",\"houp\",\"hue\",\"hui\",\"huit\",\"huitième\",\"hum\",\"hurrah\",\"i\",\"il\",\"ils\",\"importe\",\"j\",\"je\",\"jusqu\",\"jusque\",\"k\",\"l\",\"la\",\"là\",\"laquelle\",\"las\",\"le\",\"lequel\",\"les\",\"lès\",\"lesquelles\",\"lesquels\",\"leur\",\"leurs\",\"longtemps\",\"lorsque\",\"lui\",\"lui-même\",\"m\",\"ma\",\"maint\",\"mais\",\"malgré\",\"me\",\"même\",\"mêmes\",\"merci\",\"mes\",\"mien\",\"mienne\",\"miennes\",\"miens\",\"mille\",\"mince\",\"moi\",\"moi-même\",\"moins\",\"mon\",\"moyennant\",\"n\",\"na\",\"ne\",\"néanmoins\",\"neuf\",\"neuvième\",\"ni\",\"nombreuses\",\"nombreux\",\"non\",\"nos\",\"notre\",\"nôtre\",\"nôtres\",\"nous\",\"nous-mêmes\",\"nul\",\"o\",\"o|\",\"ô\",\"oh\",\"ohé\",\"olé\",\"ollé\",\"on\",\"ont\",\"onze\",\"onzième\",\"ore\",\"ou\",\"où\",\"ouf\",\"ouias\",\"oust\",\"ouste\",\"outre\",\"p\",\"paf\",\"pan\",\"par\",\"parmi\",\"partant\",\"particulier\",\"particulière\",\"particulièrement\",\"pas\",\"passé\",\"pendant\",\"personne\",\"peu\",\"peut\",\"peuvent\",\"peux\",\"pff\",\"pfft\",\"pfut\",\"pif\",\"plein\",\"plouf\",\"plus\",\"plusieurs\",\"plutôt\",\"pouah\",\"pour\",\"pourquoi\",\"premier\",\"première\",\"premièrement\",\"près\",\"proche\",\"psitt\",\"puisque\",\"q\",\"qu\",\"quand\",\"quant\",\"quanta\",\"quant-à-soi\",\"quarante\",\"quatorze\",\"quatre\",\"quatre-vingt\",\"quatrième\",\"quatrièmement\",\"que\",\"quel\",\"quelconque\",\"quelle\",\"quelles\",\"quelque\",\"quelques\",\"quelqu'un\",\"quels\",\"qui\",\"quiconque\",\"quinze\",\"quoi\",\"quoique\",\"r\",\"revoici\",\"revoilà\",\"rien\",\"s\",\"sa\",\"sacrebleu\",\"sans\",\"sapristi\",\"sauf\",\"se\",\"seize\",\"selon\",\"sept\",\"septième\",\"sera\",\"seront\",\"ses\",\"si\",\"sien\",\"sienne\",\"siennes\",\"siens\",\"sinon\",\"six\",\"sixième\",\"soi\",\"soi-même\",\"soit\",\"soixante\",\"son\",\"sont\",\"sous\",\"stop\",\"suis\",\"suivant\",\"sur\",\"surtout\",\"t\",\"ta\",\"tac\",\"tant\",\"te\",\"té\",\"tel\",\"telle\",\"tellement\",\"telles\",\"tels\",\"tenant\",\"tes\",\"tic\",\"tien\",\"tienne\",\"tiennes\",\"tiens\",\"toc\",\"toi\",\"toi-même\",\"ton\",\"touchant\",\"toujours\",\"tous\",\"tout\",\"toute\",\"toutes\",\"treize\",\"trente\",\"très\",\"trois\",\"troisième\",\"troisièmement\",\"trop\",\"tsoin\",\"tsouin\",\"tu\",\"u\",\"un\",\"une\",\"unes\",\"uns\",\"v\",\"va\",\"vais\",\"vas\",\"vé\",\"vers\",\"via\",\"vif\",\"vifs\",\"vingt\",\"vivat\",\"vive\",\"vives\",\"vlan\",\"voici\",\"voilà\",\"vont\",\"vos\",\"votre\",\"vôtre\",\"vôtres\",\"vous\",\"vous-mêmes\",\"vu\",\"w\",\"x\",\"y\",\"z\",\"zut\",\"alors\",\"aucuns\",\"bon\",\"devrait\",\"dos\",\"droite\",\"début\",\"essai\",\"faites\",\"fois\",\"force\",\"haut\",\"ici\",\"juste\",\"maintenant\",\"mine\",\"mot\",\"nommés\",\"nouveaux\",\"parce\",\"parole\",\"personnes\",\"pièce\",\"plupart\",\"seulement\",\"soyez\",\"sujet\",\"tandis\",\"valeur\",\"voie\",\"voient\",\"état\",\"étions\"])\n",
    "stop_words.update([\"donc\", \"alors\",\"fait\",\"toujour\",\"c'est\",\"j'ai\",\"dit\",\"n'est\",\"qu'il\",\"quand\",\"chez\",\"avoir\",\"vraiment\",\"car\",\"cela\",\"j a i\",\"je\",\"je \",\"Jai\",\"jai\",\"J\",\"cest\",\"2\",\"3\",\"faire\"])\n",
    "df['Commentaire'] = df['Commentaire'].apply(lambda x: ' '.join([word for word in x.split() if word not in stop_words]))"
   ]
  },
  {
   "cell_type": "markdown",
   "metadata": {
    "id": "fM5y1j4T8rIP"
   },
   "source": [
    "## C. Sauvegarde et exportation de données  <a class=\"anchor\" id=\"section_2\"></a>"
   ]
  },
  {
   "cell_type": "code",
   "execution_count": 26,
   "metadata": {
    "id": "GP_p8yO38rIQ",
    "outputId": "748cdfcd-f8d8-4d50-96d7-79763a286bb1"
   },
   "outputs": [
    {
     "name": "stdout",
     "output_type": "stream",
     "text": [
      "<class 'pandas.core.frame.DataFrame'>\n",
      "Int64Index: 19039 entries, 0 to 19862\n",
      "Data columns (total 10 columns):\n",
      " #   Column         Non-Null Count  Dtype              \n",
      "---  ------         --------------  -----              \n",
      " 0   Commentaire    19039 non-null  object             \n",
      " 1   star           19039 non-null  int64              \n",
      " 2   date           19039 non-null  datetime64[ns, UTC]\n",
      " 3   client         9778 non-null   object             \n",
      " 4   reponse        8296 non-null   object             \n",
      " 5   source         19039 non-null  object             \n",
      " 6   company        19039 non-null  object             \n",
      " 7   ville          4729 non-null   object             \n",
      " 8   date_commande  6683 non-null   datetime64[ns, UTC]\n",
      " 9   ecart          6683 non-null   float64            \n",
      "dtypes: datetime64[ns, UTC](2), float64(1), int64(1), object(6)\n",
      "memory usage: 1.6+ MB\n"
     ]
    }
   ],
   "source": [
    "df.info()"
   ]
  },
  {
   "cell_type": "markdown",
   "metadata": {
    "id": "Css9ers18rIQ"
   },
   "source": [
    "Le dataframe df2 servira de base à la partie 2.Dataviz"
   ]
  },
  {
   "cell_type": "code",
   "execution_count": 29,
   "metadata": {
    "id": "Xq6Wk2Xo8rIQ",
    "scrolled": true
   },
   "outputs": [],
   "source": [
    "df.to_pickle(\"C:\\\\Users\\\\younes.essoualhi\\\\Documents\\\\Projet prédiction note\\\\df2.pkl\")"
   ]
  },
  {
   "cell_type": "markdown",
   "metadata": {
    "id": "_6Ipr91z8rIR"
   },
   "source": [
    "Le dataframe df_clean servira de base aux itérations successives"
   ]
  },
  {
   "cell_type": "code",
   "execution_count": 30,
   "metadata": {
    "id": "CCZ6t9SZ8rIR",
    "scrolled": true
   },
   "outputs": [],
   "source": [
    "df_clean=df[['Commentaire','star','reponse']]"
   ]
  },
  {
   "cell_type": "code",
   "execution_count": 34,
   "metadata": {
    "id": "asLRpaXi8rIR"
   },
   "outputs": [],
   "source": [
    "df_clean.to_pickle(\"C:\\\\Users\\\\younes.essoualhi\\\\Documents\\\\Projet prédiction note\\\\df_clean.pkl\")"
   ]
  }
 ],
 "metadata": {
  "celltoolbar": "Format de la Cellule Texte Brut",
  "colab": {
   "provenance": []
  },
  "kernelspec": {
   "display_name": "Python 3 (ipykernel)",
   "language": "python",
   "name": "python3"
  },
  "language_info": {
   "codemirror_mode": {
    "name": "ipython",
    "version": 3
   },
   "file_extension": ".py",
   "mimetype": "text/x-python",
   "name": "python",
   "nbconvert_exporter": "python",
   "pygments_lexer": "ipython3",
   "version": "3.9.12"
  }
 },
 "nbformat": 4,
 "nbformat_minor": 1
}
