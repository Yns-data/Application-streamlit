{
 "cells": [
  {
   "cell_type": "markdown",
   "metadata": {},
   "source": [
    "<hr style=\"border-width:2px;border-color:#3d63c4\">\n",
    "<h1 style = \"text-align:center\" > 2. Projet Satisfaction clients - Dataviz </h1>\n",
    "<hr style=\"border-width:2px;border-color:#3d63c4\">"
   ]
  },
  {
   "cell_type": "code",
   "execution_count": 12,
   "metadata": {
    "scrolled": true
   },
   "outputs": [],
   "source": [
    "#importation des librairies et du dataframe\n",
    "import seaborn as sns\n",
    "import pandas as pd\n",
    "import numpy as np\n",
    "import matplotlib.pyplot as plt\n",
    "%matplotlib inline"
   ]
  },
  {
   "cell_type": "code",
   "execution_count": 2,
   "metadata": {},
   "outputs": [],
   "source": [
    "df = pd.read_pickle(\"C:\\\\Users\\\\younes.essoualhi\\\\Documents\\\\Projet prédiction note\\\\df2.pkl\")"
   ]
  },
  {
   "cell_type": "code",
   "execution_count": 3,
   "metadata": {},
   "outputs": [
    {
     "name": "stdout",
     "output_type": "stream",
     "text": [
      "<class 'pandas.core.frame.DataFrame'>\n",
      "Int64Index: 19039 entries, 0 to 19862\n",
      "Data columns (total 10 columns):\n",
      " #   Column         Non-Null Count  Dtype              \n",
      "---  ------         --------------  -----              \n",
      " 0   Commentaire    19039 non-null  object             \n",
      " 1   star           19039 non-null  int64              \n",
      " 2   date           19039 non-null  datetime64[ns, UTC]\n",
      " 3   client         9778 non-null   object             \n",
      " 4   reponse        8296 non-null   object             \n",
      " 5   source         19039 non-null  object             \n",
      " 6   company        19039 non-null  object             \n",
      " 7   ville          4729 non-null   object             \n",
      " 8   date_commande  6683 non-null   datetime64[ns, UTC]\n",
      " 9   ecart          6683 non-null   float64            \n",
      "dtypes: datetime64[ns, UTC](2), float64(1), int64(1), object(6)\n",
      "memory usage: 1.6+ MB\n"
     ]
    }
   ],
   "source": [
    "df.info()"
   ]
  },
  {
   "cell_type": "code",
   "execution_count": 5,
   "metadata": {},
   "outputs": [
    {
     "data": {
      "text/html": [
       "<div>\n",
       "<style scoped>\n",
       "    .dataframe tbody tr th:only-of-type {\n",
       "        vertical-align: middle;\n",
       "    }\n",
       "\n",
       "    .dataframe tbody tr th {\n",
       "        vertical-align: top;\n",
       "    }\n",
       "\n",
       "    .dataframe thead th {\n",
       "        text-align: right;\n",
       "    }\n",
       "</style>\n",
       "<table border=\"1\" class=\"dataframe\">\n",
       "  <thead>\n",
       "    <tr style=\"text-align: right;\">\n",
       "      <th></th>\n",
       "      <th>Commentaire</th>\n",
       "      <th>star</th>\n",
       "      <th>date</th>\n",
       "      <th>client</th>\n",
       "      <th>reponse</th>\n",
       "      <th>source</th>\n",
       "      <th>company</th>\n",
       "      <th>ville</th>\n",
       "      <th>date_commande</th>\n",
       "      <th>ecart</th>\n",
       "    </tr>\n",
       "  </thead>\n",
       "  <tbody>\n",
       "    <tr>\n",
       "      <th>0</th>\n",
       "      <td>bonjour ca ans membre showrooprive jamais souc...</td>\n",
       "      <td>1</td>\n",
       "      <td>2021-06-20 00:00:00+00:00</td>\n",
       "      <td>AUDREY Du 62</td>\n",
       "      <td>NaN</td>\n",
       "      <td>TrustPilot</td>\n",
       "      <td>ShowRoom</td>\n",
       "      <td>NaN</td>\n",
       "      <td>NaT</td>\n",
       "      <td>NaN</td>\n",
       "    </tr>\n",
       "    <tr>\n",
       "      <th>1</th>\n",
       "      <td>vente lacoste article manquant photo prise art...</td>\n",
       "      <td>1</td>\n",
       "      <td>2021-06-20 00:00:00+00:00</td>\n",
       "      <td>Nanasky De Verteuil</td>\n",
       "      <td>NaN</td>\n",
       "      <td>TrustPilot</td>\n",
       "      <td>ShowRoom</td>\n",
       "      <td>NaN</td>\n",
       "      <td>NaT</td>\n",
       "      <td>NaN</td>\n",
       "    </tr>\n",
       "    <tr>\n",
       "      <th>2</th>\n",
       "      <td>vente lacoste honteuse article erroné article ...</td>\n",
       "      <td>1</td>\n",
       "      <td>2021-06-19 00:00:00+00:00</td>\n",
       "      <td>Vanessa L</td>\n",
       "      <td>NaN</td>\n",
       "      <td>TrustPilot</td>\n",
       "      <td>ShowRoom</td>\n",
       "      <td>NaN</td>\n",
       "      <td>NaT</td>\n",
       "      <td>NaN</td>\n",
       "    </tr>\n",
       "    <tr>\n",
       "      <th>3</th>\n",
       "      <td>commandé mules marque moosefield déçue produit...</td>\n",
       "      <td>2</td>\n",
       "      <td>2021-06-19 00:00:00+00:00</td>\n",
       "      <td>Valery PERRAULT</td>\n",
       "      <td>Bonjour , Je suis sincèrement navré d'apprendr...</td>\n",
       "      <td>TrustPilot</td>\n",
       "      <td>ShowRoom</td>\n",
       "      <td>NaN</td>\n",
       "      <td>NaT</td>\n",
       "      <td>NaN</td>\n",
       "    </tr>\n",
       "    <tr>\n",
       "      <th>4</th>\n",
       "      <td>commande téléphone etat livraison vieux téléph...</td>\n",
       "      <td>1</td>\n",
       "      <td>2021-06-19 00:00:00+00:00</td>\n",
       "      <td>JULIE DRINGENBERG</td>\n",
       "      <td>Bonjour Julie , Je suis sincèrement désolé de ...</td>\n",
       "      <td>TrustPilot</td>\n",
       "      <td>ShowRoom</td>\n",
       "      <td>NaN</td>\n",
       "      <td>NaT</td>\n",
       "      <td>NaN</td>\n",
       "    </tr>\n",
       "  </tbody>\n",
       "</table>\n",
       "</div>"
      ],
      "text/plain": [
       "                                         Commentaire  star  \\\n",
       "0  bonjour ca ans membre showrooprive jamais souc...     1   \n",
       "1  vente lacoste article manquant photo prise art...     1   \n",
       "2  vente lacoste honteuse article erroné article ...     1   \n",
       "3  commandé mules marque moosefield déçue produit...     2   \n",
       "4  commande téléphone etat livraison vieux téléph...     1   \n",
       "\n",
       "                       date               client  \\\n",
       "0 2021-06-20 00:00:00+00:00         AUDREY Du 62   \n",
       "1 2021-06-20 00:00:00+00:00  Nanasky De Verteuil   \n",
       "2 2021-06-19 00:00:00+00:00            Vanessa L   \n",
       "3 2021-06-19 00:00:00+00:00      Valery PERRAULT   \n",
       "4 2021-06-19 00:00:00+00:00    JULIE DRINGENBERG   \n",
       "\n",
       "                                             reponse      source   company  \\\n",
       "0                                                NaN  TrustPilot  ShowRoom   \n",
       "1                                                NaN  TrustPilot  ShowRoom   \n",
       "2                                                NaN  TrustPilot  ShowRoom   \n",
       "3  Bonjour , Je suis sincèrement navré d'apprendr...  TrustPilot  ShowRoom   \n",
       "4  Bonjour Julie , Je suis sincèrement désolé de ...  TrustPilot  ShowRoom   \n",
       "\n",
       "  ville date_commande  ecart  \n",
       "0   NaN           NaT    NaN  \n",
       "1   NaN           NaT    NaN  \n",
       "2   NaN           NaT    NaN  \n",
       "3   NaN           NaT    NaN  \n",
       "4   NaN           NaT    NaN  "
      ]
     },
     "execution_count": 5,
     "metadata": {},
     "output_type": "execute_result"
    }
   ],
   "source": [
    "df.head(5)"
   ]
  },
  {
   "cell_type": "markdown",
   "metadata": {},
   "source": [
    "### C. Distribution des données"
   ]
  },
  {
   "cell_type": "markdown",
   "metadata": {},
   "source": [
    "### a.Variable date"
   ]
  },
  {
   "cell_type": "code",
   "execution_count": 9,
   "metadata": {},
   "outputs": [
    {
     "data": {
      "image/png": "[encoded data removed]",
      "text/plain": [
       "<Figure size 432x720 with 1 Axes>"
      ]
     },
     "metadata": {
      "needs_background": "light"
     },
     "output_type": "display_data"
    }
   ],
   "source": [
    "# graphiques en barre par an\n",
    "df['Année'] = df['date'].dt.year\n",
    "df1=df.groupby(['Année'])['star'].count()\n",
    "df1.plot(x=\"Année\", y=\"star\",kind='barh', figsize=(6,10))\n",
    "plt.title('Répartition des enregistrements 2020 par an')\n",
    "plt.xlabel(\"Nombre des enregistrements\")\n",
    "plt.show()"
   ]
  },
  {
   "cell_type": "markdown",
   "metadata": {},
   "source": [
    "> 70% des données ont été collectées en 2020."
   ]
  },
  {
   "cell_type": "code",
   "execution_count": 14,
   "metadata": {},
   "outputs": [
    {
     "data": {
      "image/png": "[encoded data removed]",
      "text/plain": [
       "<Figure size 1080x576 with 1 Axes>"
      ]
     },
     "metadata": {
      "needs_background": "light"
     },
     "output_type": "display_data"
    }
   ],
   "source": [
    "# graphiques en barre Répartition des notes\n",
    "fig, ax = plt.subplots(figsize=(15,8))\n",
    "sns.countplot(x=\"Année\",hue=\"star\",data=df,palette=\"Set2\")\n",
    "plt.title('Répartition des notes par an')\n",
    "plt.show()"
   ]
  },
  {
   "cell_type": "markdown",
   "metadata": {},
   "source": [
    "### b. Variable client"
   ]
  },
  {
   "cell_type": "code",
   "execution_count": 16,
   "metadata": {},
   "outputs": [
    {
     "data": {
      "text/plain": [
       "Client          28\n",
       "Nelly L .       28\n",
       "Isabelle F .    27\n",
       "Lili M .        17\n",
       "Sabrina R .     17\n",
       "Marie M .       17\n",
       "Evelyne B .     15\n",
       "Haji S .        14\n",
       "SAMIRA L .      13\n",
       "Helena G .      13\n",
       "Name: client, dtype: int64"
      ]
     },
     "execution_count": 16,
     "metadata": {},
     "output_type": "execute_result"
    }
   ],
   "source": [
    "#les valeurs les plus fréquentes de la variable client\n",
    "df['client'].value_counts(ascending=False).head(10)"
   ]
  },
  {
   "cell_type": "markdown",
   "metadata": {},
   "source": [
    "### c. Variable source"
   ]
  },
  {
   "cell_type": "code",
   "execution_count": 17,
   "metadata": {},
   "outputs": [
    {
     "name": "stdout",
     "output_type": "stream",
     "text": [
      "source\n",
      "TrustPilot      5053\n",
      "TrustedShop    13986\n",
      "Name: star, dtype: int64\n"
     ]
    },
    {
     "data": {
      "image/png": "[encoded data removed]",
      "text/plain": [
       "<Figure size 432x288 with 1 Axes>"
      ]
     },
     "metadata": {},
     "output_type": "display_data"
    }
   ],
   "source": [
    "# répartition par source\n",
    "print(df.groupby('source')['star'].count())\n",
    "plt.pie(df.groupby('source')['star'].count(), colors = ['#df59f7','#59f2f7'],\n",
    "                                             autopct = lambda x: str(round(x, 2)) + '%')\n",
    "plt.legend(labels = ['TrustPilot', 'TrustedShop'],loc='best')\n",
    "plt.title(\"Répartition par source\",fontsize=20);"
   ]
  },
  {
   "cell_type": "markdown",
   "metadata": {},
   "source": [
    "> Nous avons 3 fois plus de données issues de TrustedShop"
   ]
  },
  {
   "cell_type": "markdown",
   "metadata": {},
   "source": [
    "### d. Variable company"
   ]
  },
  {
   "cell_type": "code",
   "execution_count": 18,
   "metadata": {},
   "outputs": [
    {
     "name": "stdout",
     "output_type": "stream",
     "text": [
      "company\n",
      "ShowRoom    16178\n",
      "VeePee       2861\n",
      "Name: star, dtype: int64\n"
     ]
    },
    {
     "data": {
      "image/png": "[encoded data removed]",
      "text/plain": [
       "<Figure size 432x288 with 1 Axes>"
      ]
     },
     "metadata": {},
     "output_type": "display_data"
    }
   ],
   "source": [
    "# répartition par company\n",
    "print(df.groupby('company')['star'].count())\n",
    "plt.pie(df.groupby('company')['star'].count(), colors = ['#df59f7','#59f2f7'],\n",
    "                                             autopct = lambda x: str(round(x, 2)) + '%')\n",
    "plt.legend(labels = ['ShowRoom', 'VeePee'],loc='best')\n",
    "plt.title(\"Répartition par company\",fontsize=20);"
   ]
  },
  {
   "cell_type": "markdown",
   "metadata": {},
   "source": [
    "> Nous avons 5 fois plus de données sur ShowRoom"
   ]
  },
  {
   "cell_type": "code",
   "execution_count": 19,
   "metadata": {
    "scrolled": true
   },
   "outputs": [
    {
     "data": {
      "text/html": [
       "<div>\n",
       "<style scoped>\n",
       "    .dataframe tbody tr th:only-of-type {\n",
       "        vertical-align: middle;\n",
       "    }\n",
       "\n",
       "    .dataframe tbody tr th {\n",
       "        vertical-align: top;\n",
       "    }\n",
       "\n",
       "    .dataframe thead th {\n",
       "        text-align: right;\n",
       "    }\n",
       "</style>\n",
       "<table border=\"1\" class=\"dataframe\">\n",
       "  <thead>\n",
       "    <tr style=\"text-align: right;\">\n",
       "      <th>source</th>\n",
       "      <th>TrustPilot</th>\n",
       "      <th>TrustedShop</th>\n",
       "    </tr>\n",
       "    <tr>\n",
       "      <th>company</th>\n",
       "      <th></th>\n",
       "      <th></th>\n",
       "    </tr>\n",
       "  </thead>\n",
       "  <tbody>\n",
       "    <tr>\n",
       "      <th>ShowRoom</th>\n",
       "      <td>0.135493</td>\n",
       "      <td>0.864507</td>\n",
       "    </tr>\n",
       "    <tr>\n",
       "      <th>VeePee</th>\n",
       "      <td>1.000000</td>\n",
       "      <td>0.000000</td>\n",
       "    </tr>\n",
       "  </tbody>\n",
       "</table>\n",
       "</div>"
      ],
      "text/plain": [
       "source    TrustPilot  TrustedShop\n",
       "company                          \n",
       "ShowRoom    0.135493     0.864507\n",
       "VeePee      1.000000     0.000000"
      ]
     },
     "execution_count": 19,
     "metadata": {},
     "output_type": "execute_result"
    }
   ],
   "source": [
    "pd.crosstab(df['company'],df['source'],normalize=0)"
   ]
  },
  {
   "cell_type": "markdown",
   "metadata": {},
   "source": [
    "> - les données Veepee viennent à 100% du site TrustPilot <br>\n",
    "> - les données ShowRoom viennent à 87% su site TrustedShop"
   ]
  },
  {
   "cell_type": "markdown",
   "metadata": {},
   "source": [
    "### e. Variable ville"
   ]
  },
  {
   "cell_type": "code",
   "execution_count": 20,
   "metadata": {},
   "outputs": [
    {
     "data": {
      "text/plain": [
       "Paris                 105\n",
       "Lyon                   42\n",
       "Marseille              35\n",
       "BRIVE LA GAILLARDE     31\n",
       "Strasbourg             29\n",
       "Chatenay Malabry       28\n",
       "Toulouse               28\n",
       "Nice                   27\n",
       "Bor                    24\n",
       "PARIS                  21\n",
       "Lisboa                 19\n",
       "Porto                  19\n",
       "XXX                    17\n",
       "MARSEILLE              17\n",
       "Clermont               16\n",
       "St Leu                 16\n",
       "Caen                   16\n",
       "Portugal               15\n",
       "Lille                  14\n",
       "Liège                  14\n",
       "Name: ville, dtype: int64"
      ]
     },
     "execution_count": 20,
     "metadata": {},
     "output_type": "execute_result"
    }
   ],
   "source": [
    "#les valeurs les plus fréquentes de la variable ville\n",
    "df['ville'].value_counts(ascending=False).head(20)"
   ]
  },
  {
   "cell_type": "code",
   "execution_count": 21,
   "metadata": {},
   "outputs": [],
   "source": [
    "# La variable ville contient 75% de Nan. Je ne la conserve pas pour la suite de l'analyse\n",
    "df=df.drop(\"ville\",axis = 1)"
   ]
  },
  {
   "cell_type": "markdown",
   "metadata": {},
   "source": [
    "### f. Variables date_commande"
   ]
  },
  {
   "cell_type": "code",
   "execution_count": 22,
   "metadata": {},
   "outputs": [
    {
     "data": {
      "text/html": [
       "<div>\n",
       "<style scoped>\n",
       "    .dataframe tbody tr th:only-of-type {\n",
       "        vertical-align: middle;\n",
       "    }\n",
       "\n",
       "    .dataframe tbody tr th {\n",
       "        vertical-align: top;\n",
       "    }\n",
       "\n",
       "    .dataframe thead th {\n",
       "        text-align: right;\n",
       "    }\n",
       "</style>\n",
       "<table border=\"1\" class=\"dataframe\">\n",
       "  <thead>\n",
       "    <tr style=\"text-align: right;\">\n",
       "      <th>source</th>\n",
       "      <th>TrustedShop</th>\n",
       "    </tr>\n",
       "    <tr>\n",
       "      <th>date_commande</th>\n",
       "      <th></th>\n",
       "    </tr>\n",
       "  </thead>\n",
       "  <tbody>\n",
       "    <tr>\n",
       "      <th>2020-03-13 00:00:00+00:00</th>\n",
       "      <td>1.0</td>\n",
       "    </tr>\n",
       "    <tr>\n",
       "      <th>2020-04-04 00:00:00+00:00</th>\n",
       "      <td>1.0</td>\n",
       "    </tr>\n",
       "    <tr>\n",
       "      <th>2020-05-06 00:00:00+00:00</th>\n",
       "      <td>1.0</td>\n",
       "    </tr>\n",
       "    <tr>\n",
       "      <th>2020-05-09 00:00:00+00:00</th>\n",
       "      <td>1.0</td>\n",
       "    </tr>\n",
       "    <tr>\n",
       "      <th>2020-05-10 00:00:00+00:00</th>\n",
       "      <td>1.0</td>\n",
       "    </tr>\n",
       "    <tr>\n",
       "      <th>...</th>\n",
       "      <td>...</td>\n",
       "    </tr>\n",
       "    <tr>\n",
       "      <th>2021-05-26 00:00:00+00:00</th>\n",
       "      <td>1.0</td>\n",
       "    </tr>\n",
       "    <tr>\n",
       "      <th>2021-05-27 00:00:00+00:00</th>\n",
       "      <td>1.0</td>\n",
       "    </tr>\n",
       "    <tr>\n",
       "      <th>2021-05-28 00:00:00+00:00</th>\n",
       "      <td>1.0</td>\n",
       "    </tr>\n",
       "    <tr>\n",
       "      <th>2021-05-29 00:00:00+00:00</th>\n",
       "      <td>1.0</td>\n",
       "    </tr>\n",
       "    <tr>\n",
       "      <th>2021-05-30 00:00:00+00:00</th>\n",
       "      <td>1.0</td>\n",
       "    </tr>\n",
       "  </tbody>\n",
       "</table>\n",
       "<p>385 rows × 1 columns</p>\n",
       "</div>"
      ],
      "text/plain": [
       "source                     TrustedShop\n",
       "date_commande                         \n",
       "2020-03-13 00:00:00+00:00          1.0\n",
       "2020-04-04 00:00:00+00:00          1.0\n",
       "2020-05-06 00:00:00+00:00          1.0\n",
       "2020-05-09 00:00:00+00:00          1.0\n",
       "2020-05-10 00:00:00+00:00          1.0\n",
       "...                                ...\n",
       "2021-05-26 00:00:00+00:00          1.0\n",
       "2021-05-27 00:00:00+00:00          1.0\n",
       "2021-05-28 00:00:00+00:00          1.0\n",
       "2021-05-29 00:00:00+00:00          1.0\n",
       "2021-05-30 00:00:00+00:00          1.0\n",
       "\n",
       "[385 rows x 1 columns]"
      ]
     },
     "execution_count": 22,
     "metadata": {},
     "output_type": "execute_result"
    }
   ],
   "source": [
    "# Croisement variables 'date_commande' et variable 'source'\n",
    "pd.crosstab(df['date_commande'],df['source'],normalize=0)"
   ]
  },
  {
   "cell_type": "markdown",
   "metadata": {},
   "source": [
    "### g. Variable star"
   ]
  },
  {
   "cell_type": "code",
   "execution_count": 23,
   "metadata": {},
   "outputs": [
    {
     "data": {
      "text/plain": [
       "5    7652\n",
       "1    4860\n",
       "4    3572\n",
       "3    1694\n",
       "2    1261\n",
       "Name: star, dtype: int64"
      ]
     },
     "execution_count": 23,
     "metadata": {},
     "output_type": "execute_result"
    }
   ],
   "source": [
    "#les modalités de la variable star\n",
    "df['star'].value_counts(ascending=False)"
   ]
  },
  {
   "cell_type": "code",
   "execution_count": 24,
   "metadata": {},
   "outputs": [
    {
     "data": {
      "text/html": [
       "<div>\n",
       "<style scoped>\n",
       "    .dataframe tbody tr th:only-of-type {\n",
       "        vertical-align: middle;\n",
       "    }\n",
       "\n",
       "    .dataframe tbody tr th {\n",
       "        vertical-align: top;\n",
       "    }\n",
       "\n",
       "    .dataframe thead th {\n",
       "        text-align: right;\n",
       "    }\n",
       "</style>\n",
       "<table border=\"1\" class=\"dataframe\">\n",
       "  <thead>\n",
       "    <tr style=\"text-align: right;\">\n",
       "      <th>source</th>\n",
       "      <th>TrustPilot</th>\n",
       "      <th>TrustedShop</th>\n",
       "    </tr>\n",
       "    <tr>\n",
       "      <th>star</th>\n",
       "      <th></th>\n",
       "      <th></th>\n",
       "    </tr>\n",
       "  </thead>\n",
       "  <tbody>\n",
       "    <tr>\n",
       "      <th>1</th>\n",
       "      <td>0.830794</td>\n",
       "      <td>0.047333</td>\n",
       "    </tr>\n",
       "    <tr>\n",
       "      <th>2</th>\n",
       "      <td>0.070057</td>\n",
       "      <td>0.064851</td>\n",
       "    </tr>\n",
       "    <tr>\n",
       "      <th>3</th>\n",
       "      <td>0.020186</td>\n",
       "      <td>0.113828</td>\n",
       "    </tr>\n",
       "    <tr>\n",
       "      <th>4</th>\n",
       "      <td>0.028894</td>\n",
       "      <td>0.244959</td>\n",
       "    </tr>\n",
       "    <tr>\n",
       "      <th>5</th>\n",
       "      <td>0.050069</td>\n",
       "      <td>0.529029</td>\n",
       "    </tr>\n",
       "  </tbody>\n",
       "</table>\n",
       "</div>"
      ],
      "text/plain": [
       "source  TrustPilot  TrustedShop\n",
       "star                           \n",
       "1         0.830794     0.047333\n",
       "2         0.070057     0.064851\n",
       "3         0.020186     0.113828\n",
       "4         0.028894     0.244959\n",
       "5         0.050069     0.529029"
      ]
     },
     "execution_count": 24,
     "metadata": {},
     "output_type": "execute_result"
    }
   ],
   "source": [
    "# Note obtenu en fonction de la source\n",
    "df1=pd.crosstab(df['star'],df['source'],normalize=1)\n",
    "df1"
   ]
  },
  {
   "cell_type": "code",
   "execution_count": 25,
   "metadata": {},
   "outputs": [
    {
     "data": {
      "image/png": "[encoded data removed]",
      "text/plain": [
       "<Figure size 720x360 with 2 Axes>"
      ]
     },
     "metadata": {},
     "output_type": "display_data"
    }
   ],
   "source": [
    "figure, axes = plt.subplots(1, 2, figsize=(10,5))\n",
    "plt.subplot(1, 2, 1)\n",
    "plt.title('G1-Notes de TrustPilot');\n",
    "plt.pie(x=df1[\"TrustPilot\"],labels=[\"1*\",\"2*\",\"3*\",\"4*\",\"5*\"],autopct = lambda x:str(round(x,0))+'%',pctdistance=0.7);\n",
    "plt.subplot(1, 2, 2)\n",
    "plt.title('G2-Notes de TrustedShop');\n",
    "plt.pie(x=df1[\"TrustedShop\"],labels=[\"1*\",\"2*\",\"3*\",\"4*\",\"5*\"],autopct = lambda x:str(round(x,0))+'%');"
   ]
  },
  {
   "cell_type": "code",
   "execution_count": 26,
   "metadata": {},
   "outputs": [
    {
     "data": {
      "text/html": [
       "<div>\n",
       "<style scoped>\n",
       "    .dataframe tbody tr th:only-of-type {\n",
       "        vertical-align: middle;\n",
       "    }\n",
       "\n",
       "    .dataframe tbody tr th {\n",
       "        vertical-align: top;\n",
       "    }\n",
       "\n",
       "    .dataframe thead th {\n",
       "        text-align: right;\n",
       "    }\n",
       "</style>\n",
       "<table border=\"1\" class=\"dataframe\">\n",
       "  <thead>\n",
       "    <tr style=\"text-align: right;\">\n",
       "      <th></th>\n",
       "      <th>ShowRoom</th>\n",
       "      <th>VeePee</th>\n",
       "    </tr>\n",
       "    <tr>\n",
       "      <th>star</th>\n",
       "      <th></th>\n",
       "      <th></th>\n",
       "    </tr>\n",
       "  </thead>\n",
       "  <tbody>\n",
       "    <tr>\n",
       "      <th>1</th>\n",
       "      <td>0.157683</td>\n",
       "      <td>0.807060</td>\n",
       "    </tr>\n",
       "    <tr>\n",
       "      <th>2</th>\n",
       "      <td>0.064903</td>\n",
       "      <td>0.073750</td>\n",
       "    </tr>\n",
       "    <tr>\n",
       "      <th>3</th>\n",
       "      <td>0.100630</td>\n",
       "      <td>0.023069</td>\n",
       "    </tr>\n",
       "    <tr>\n",
       "      <th>4</th>\n",
       "      <td>0.214674</td>\n",
       "      <td>0.034603</td>\n",
       "    </tr>\n",
       "    <tr>\n",
       "      <th>5</th>\n",
       "      <td>0.462109</td>\n",
       "      <td>0.061517</td>\n",
       "    </tr>\n",
       "  </tbody>\n",
       "</table>\n",
       "</div>"
      ],
      "text/plain": [
       "      ShowRoom    VeePee\n",
       "star                    \n",
       "1     0.157683  0.807060\n",
       "2     0.064903  0.073750\n",
       "3     0.100630  0.023069\n",
       "4     0.214674  0.034603\n",
       "5     0.462109  0.061517"
      ]
     },
     "execution_count": 26,
     "metadata": {},
     "output_type": "execute_result"
    }
   ],
   "source": [
    "df2=pd.DataFrame(pd.crosstab(df['star'],df['company'],normalize=1),columns=['ShowRoom','VeePee'])\n",
    "df2"
   ]
  },
  {
   "cell_type": "code",
   "execution_count": 28,
   "metadata": {
    "scrolled": true
   },
   "outputs": [
    {
     "data": {
      "image/png": "[encoded data removed]",
      "text/plain": [
       "<Figure size 720x360 with 2 Axes>"
      ]
     },
     "metadata": {},
     "output_type": "display_data"
    }
   ],
   "source": [
    "figure, axes = plt.subplots(1, 2, figsize=(10,5))\n",
    "# Notes obtenues par chacune des entreprises\n",
    "plt.subplot(1, 2, 2)\n",
    "plt.title('G4-Notes de ShowRoom');\n",
    "plt.pie(x=df2[\"ShowRoom\"],labels=[\"1*\",\"2*\",\"3*\",\"4*\",\"5*\"],autopct = lambda x:str(round(x,0))+'%',pctdistance=0.7);\n",
    "plt.subplot(1, 2, 1)\n",
    "plt.title('G3-Notes de Veepee');\n",
    "plt.pie(x=df2[\"VeePee\"],labels=[\"1*\",\"2*\",\"3*\",\"4*\",\"5*\"],autopct = lambda x:str(round(x,0))+'%');"
   ]
  },
  {
   "cell_type": "markdown",
   "metadata": {},
   "source": [
    "> Les notes relatives à Veepee (issues de TrustPilot) sont à 80% des notes de 1*"
   ]
  },
  {
   "cell_type": "code",
   "execution_count": 29,
   "metadata": {
    "scrolled": true
   },
   "outputs": [
    {
     "data": {
      "image/png": "[encoded data removed]",
      "text/plain": [
       "<Figure size 360x360 with 1 Axes>"
      ]
     },
     "metadata": {},
     "output_type": "display_data"
    }
   ],
   "source": [
    "# vérification sur les données Showroom provenant de Trustpilot\n",
    "df2=df[df['source']==\"TrustPilot\"]\n",
    "df2=df2[df2['company']==\"ShowRoom\"]\n",
    "plt.figure(figsize=(5, 5))\n",
    "plt.title('G3-Notes de ShowRoom sur Trustpilot');\n",
    "plt.pie(x=df2.groupby(['star'])['company'].count(),labels=[\"1 star\",\"2 stars\",\"3 stars\",\"4 stars\",\"5 stars\"],autopct = lambda x:str(round(x,2))+'%',pctdistance=0.7);\n"
   ]
  },
  {
   "cell_type": "markdown",
   "metadata": {},
   "source": [
    "> si je filtre les notes Showrroom issues de Trustpilot, on observe le même phénoméne."
   ]
  },
  {
   "cell_type": "code",
   "execution_count": 30,
   "metadata": {},
   "outputs": [
    {
     "data": {
      "image/png": "[encoded data removed]",
      "text/plain": [
       "<Figure size 720x720 with 1 Axes>"
      ]
     },
     "metadata": {
      "needs_background": "light"
     },
     "output_type": "display_data"
    }
   ],
   "source": [
    "# longeur des commentaires en fonction de la note\n",
    "df['longueur'] = df['Commentaire'].str.len()\n",
    "plt.figure(figsize=(10,10))\n",
    "sns.set_style(\"whitegrid\") \n",
    "sns.boxplot(x = 'star', y = 'longueur', data = df)\n",
    "plt.show()"
   ]
  },
  {
   "cell_type": "markdown",
   "metadata": {},
   "source": [
    "> Il semblerait que plus l'appréciation est mauvaise (star= 1 ou 2), plus les commentaires sont longs."
   ]
  },
  {
   "cell_type": "code",
   "execution_count": 31,
   "metadata": {},
   "outputs": [],
   "source": [
    "df=df.drop([\"Année\",\"Mois\",\"longueur\",\"date_commande\",\"ecart\"],axis = 1)"
   ]
  },
  {
   "cell_type": "code",
   "execution_count": 32,
   "metadata": {},
   "outputs": [
    {
     "data": {
      "text/html": [
       "<div>\n",
       "<style scoped>\n",
       "    .dataframe tbody tr th:only-of-type {\n",
       "        vertical-align: middle;\n",
       "    }\n",
       "\n",
       "    .dataframe tbody tr th {\n",
       "        vertical-align: top;\n",
       "    }\n",
       "\n",
       "    .dataframe thead th {\n",
       "        text-align: right;\n",
       "    }\n",
       "</style>\n",
       "<table border=\"1\" class=\"dataframe\">\n",
       "  <thead>\n",
       "    <tr style=\"text-align: right;\">\n",
       "      <th></th>\n",
       "      <th>Commentaire</th>\n",
       "      <th>star</th>\n",
       "      <th>date</th>\n",
       "      <th>client</th>\n",
       "      <th>reponse</th>\n",
       "      <th>source</th>\n",
       "      <th>company</th>\n",
       "    </tr>\n",
       "  </thead>\n",
       "  <tbody>\n",
       "    <tr>\n",
       "      <th>0</th>\n",
       "      <td>bonjour ca ans membre showrooprive jamais souc...</td>\n",
       "      <td>1</td>\n",
       "      <td>2021-06-20 00:00:00+00:00</td>\n",
       "      <td>AUDREY Du 62</td>\n",
       "      <td>NaN</td>\n",
       "      <td>TrustPilot</td>\n",
       "      <td>ShowRoom</td>\n",
       "    </tr>\n",
       "    <tr>\n",
       "      <th>1</th>\n",
       "      <td>vente lacoste article manquant photo prise art...</td>\n",
       "      <td>1</td>\n",
       "      <td>2021-06-20 00:00:00+00:00</td>\n",
       "      <td>Nanasky De Verteuil</td>\n",
       "      <td>NaN</td>\n",
       "      <td>TrustPilot</td>\n",
       "      <td>ShowRoom</td>\n",
       "    </tr>\n",
       "    <tr>\n",
       "      <th>2</th>\n",
       "      <td>vente lacoste honteuse article erroné article ...</td>\n",
       "      <td>1</td>\n",
       "      <td>2021-06-19 00:00:00+00:00</td>\n",
       "      <td>Vanessa L</td>\n",
       "      <td>NaN</td>\n",
       "      <td>TrustPilot</td>\n",
       "      <td>ShowRoom</td>\n",
       "    </tr>\n",
       "    <tr>\n",
       "      <th>3</th>\n",
       "      <td>commandé mules marque moosefield déçue produit...</td>\n",
       "      <td>2</td>\n",
       "      <td>2021-06-19 00:00:00+00:00</td>\n",
       "      <td>Valery PERRAULT</td>\n",
       "      <td>Bonjour , Je suis sincèrement navré d'apprendr...</td>\n",
       "      <td>TrustPilot</td>\n",
       "      <td>ShowRoom</td>\n",
       "    </tr>\n",
       "    <tr>\n",
       "      <th>4</th>\n",
       "      <td>commande téléphone etat livraison vieux téléph...</td>\n",
       "      <td>1</td>\n",
       "      <td>2021-06-19 00:00:00+00:00</td>\n",
       "      <td>JULIE DRINGENBERG</td>\n",
       "      <td>Bonjour Julie , Je suis sincèrement désolé de ...</td>\n",
       "      <td>TrustPilot</td>\n",
       "      <td>ShowRoom</td>\n",
       "    </tr>\n",
       "  </tbody>\n",
       "</table>\n",
       "</div>"
      ],
      "text/plain": [
       "                                         Commentaire  star  \\\n",
       "0  bonjour ca ans membre showrooprive jamais souc...     1   \n",
       "1  vente lacoste article manquant photo prise art...     1   \n",
       "2  vente lacoste honteuse article erroné article ...     1   \n",
       "3  commandé mules marque moosefield déçue produit...     2   \n",
       "4  commande téléphone etat livraison vieux téléph...     1   \n",
       "\n",
       "                       date               client  \\\n",
       "0 2021-06-20 00:00:00+00:00         AUDREY Du 62   \n",
       "1 2021-06-20 00:00:00+00:00  Nanasky De Verteuil   \n",
       "2 2021-06-19 00:00:00+00:00            Vanessa L   \n",
       "3 2021-06-19 00:00:00+00:00      Valery PERRAULT   \n",
       "4 2021-06-19 00:00:00+00:00    JULIE DRINGENBERG   \n",
       "\n",
       "                                             reponse      source   company  \n",
       "0                                                NaN  TrustPilot  ShowRoom  \n",
       "1                                                NaN  TrustPilot  ShowRoom  \n",
       "2                                                NaN  TrustPilot  ShowRoom  \n",
       "3  Bonjour , Je suis sincèrement navré d'apprendr...  TrustPilot  ShowRoom  \n",
       "4  Bonjour Julie , Je suis sincèrement désolé de ...  TrustPilot  ShowRoom  "
      ]
     },
     "execution_count": 32,
     "metadata": {},
     "output_type": "execute_result"
    }
   ],
   "source": [
    "df.head(5)"
   ]
  },
  {
   "cell_type": "code",
   "execution_count": 34,
   "metadata": {},
   "outputs": [],
   "source": [
    "df.to_pickle(\"C:\\\\Users\\\\younes.essoualhi\\\\Documents\\\\Projet prédiction note\\\\df3.pkl\")"
   ]
  }
 ],
 "metadata": {
  "celltoolbar": "Format de la Cellule Texte Brut",
  "kernelspec": {
   "display_name": "Python 3 (ipykernel)",
   "language": "python",
   "name": "python3"
  },
  "language_info": {
   "codemirror_mode": {
    "name": "ipython",
    "version": 3
   },
   "file_extension": ".py",
   "mimetype": "text/x-python",
   "name": "python",
   "nbconvert_exporter": "python",
   "pygments_lexer": "ipython3",
   "version": "3.9.12"
  }
 },
 "nbformat": 4,
 "nbformat_minor": 4
}
